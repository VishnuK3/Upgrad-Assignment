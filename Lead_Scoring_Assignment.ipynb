{
  "nbformat": 4,
  "nbformat_minor": 0,
  "metadata": {
    "colab": {
      "provenance": [],
      "toc_visible": true
    },
    "kernelspec": {
      "name": "python3",
      "display_name": "Python 3"
    },
    "language_info": {
      "name": "python"
    }
  },
  "cells": [
    {
      "cell_type": "markdown",
      "source": [
        "##Part 1: Import Libraries"
      ],
      "metadata": {
        "id": "I0pJZL_yjvEP"
      }
    },
    {
      "cell_type": "code",
      "execution_count": null,
      "metadata": {
        "id": "N0qmdFNHjdXg"
      },
      "outputs": [],
      "source": [
        "# Import necessary libraries\n",
        "import pandas as pd\n",
        "import numpy as np\n",
        "from sklearn.feature_selection import chi2\n",
        "from scipy.stats import chi2_contingency\n",
        "from sklearn.metrics import accuracy_score, precision_score, recall_score, f1_score, roc_auc_score, roc_curve, confusion_matrix, classification_report\n",
        "import matplotlib.pyplot as plt\n",
        "import seaborn as sns\n",
        "import statsmodels.api as sm\n"
      ]
    },
    {
      "cell_type": "markdown",
      "source": [
        "##Part 2: Load and Explore the Data"
      ],
      "metadata": {
        "id": "Gbi27gEGj7KN"
      }
    },
    {
      "cell_type": "code",
      "source": [
        "leads_df = pd.read_csv('Leads.csv')"
      ],
      "metadata": {
        "id": "xksJY4R5j9nq"
      },
      "execution_count": null,
      "outputs": []
    },
    {
      "cell_type": "code",
      "source": [
        "print(\"Dataset shape:\", leads_df.shape)\n"
      ],
      "metadata": {
        "colab": {
          "base_uri": "https://localhost:8080/"
        },
        "id": "XaMIkyqQkDuo",
        "outputId": "3ab623c0-2250-4349-de67-9da4e71795bb"
      },
      "execution_count": null,
      "outputs": [
        {
          "output_type": "stream",
          "name": "stdout",
          "text": [
            "Dataset shape: (9240, 37)\n"
          ]
        }
      ]
    },
    {
      "cell_type": "code",
      "source": [
        "leads_df.head()"
      ],
      "metadata": {
        "colab": {
          "base_uri": "https://localhost:8080/",
          "height": 585
        },
        "collapsed": true,
        "id": "D7pRbnp3kHTZ",
        "outputId": "15111ef9-1ec3-499e-9c4f-aa1d84f82411"
      },
      "execution_count": null,
      "outputs": [
        {
          "output_type": "execute_result",
          "data": {
            "text/plain": [
              "                            Prospect ID  Lead Number              Lead Origin  \\\n",
              "0  7927b2df-8bba-4d29-b9a2-b6e0beafe620       660737                      API   \n",
              "1  2a272436-5132-4136-86fa-dcc88c88f482       660728                      API   \n",
              "2  8cc8c611-a219-4f35-ad23-fdfd2656bd8a       660727  Landing Page Submission   \n",
              "3  0cc2df48-7cf4-4e39-9de9-19797f9b38cc       660719  Landing Page Submission   \n",
              "4  3256f628-e534-4826-9d63-4a8b88782852       660681  Landing Page Submission   \n",
              "\n",
              "      Lead Source Do Not Email Do Not Call  Converted  TotalVisits  \\\n",
              "0      Olark Chat           No          No          0          0.0   \n",
              "1  Organic Search           No          No          0          5.0   \n",
              "2  Direct Traffic           No          No          1          2.0   \n",
              "3  Direct Traffic           No          No          0          1.0   \n",
              "4          Google           No          No          1          2.0   \n",
              "\n",
              "   Total Time Spent on Website  Page Views Per Visit  ...  \\\n",
              "0                            0                   0.0  ...   \n",
              "1                          674                   2.5  ...   \n",
              "2                         1532                   2.0  ...   \n",
              "3                          305                   1.0  ...   \n",
              "4                         1428                   1.0  ...   \n",
              "\n",
              "  Get updates on DM Content    Lead Profile    City  \\\n",
              "0                        No          Select  Select   \n",
              "1                        No          Select  Select   \n",
              "2                        No  Potential Lead  Mumbai   \n",
              "3                        No          Select  Mumbai   \n",
              "4                        No          Select  Mumbai   \n",
              "\n",
              "  Asymmetrique Activity Index Asymmetrique Profile Index  \\\n",
              "0                   02.Medium                  02.Medium   \n",
              "1                   02.Medium                  02.Medium   \n",
              "2                   02.Medium                    01.High   \n",
              "3                   02.Medium                    01.High   \n",
              "4                   02.Medium                    01.High   \n",
              "\n",
              "  Asymmetrique Activity Score Asymmetrique Profile Score  \\\n",
              "0                        15.0                       15.0   \n",
              "1                        15.0                       15.0   \n",
              "2                        14.0                       20.0   \n",
              "3                        13.0                       17.0   \n",
              "4                        15.0                       18.0   \n",
              "\n",
              "  I agree to pay the amount through cheque  \\\n",
              "0                                       No   \n",
              "1                                       No   \n",
              "2                                       No   \n",
              "3                                       No   \n",
              "4                                       No   \n",
              "\n",
              "  A free copy of Mastering The Interview Last Notable Activity  \n",
              "0                                     No              Modified  \n",
              "1                                     No          Email Opened  \n",
              "2                                    Yes          Email Opened  \n",
              "3                                     No              Modified  \n",
              "4                                     No              Modified  \n",
              "\n",
              "[5 rows x 37 columns]"
            ],
            "text/html": [
              "\n",
              "  <div id=\"df-6d419bb4-1b63-435c-8ae2-46c81eb23d5c\" class=\"colab-df-container\">\n",
              "    <div>\n",
              "<style scoped>\n",
              "    .dataframe tbody tr th:only-of-type {\n",
              "        vertical-align: middle;\n",
              "    }\n",
              "\n",
              "    .dataframe tbody tr th {\n",
              "        vertical-align: top;\n",
              "    }\n",
              "\n",
              "    .dataframe thead th {\n",
              "        text-align: right;\n",
              "    }\n",
              "</style>\n",
              "<table border=\"1\" class=\"dataframe\">\n",
              "  <thead>\n",
              "    <tr style=\"text-align: right;\">\n",
              "      <th></th>\n",
              "      <th>Prospect ID</th>\n",
              "      <th>Lead Number</th>\n",
              "      <th>Lead Origin</th>\n",
              "      <th>Lead Source</th>\n",
              "      <th>Do Not Email</th>\n",
              "      <th>Do Not Call</th>\n",
              "      <th>Converted</th>\n",
              "      <th>TotalVisits</th>\n",
              "      <th>Total Time Spent on Website</th>\n",
              "      <th>Page Views Per Visit</th>\n",
              "      <th>...</th>\n",
              "      <th>Get updates on DM Content</th>\n",
              "      <th>Lead Profile</th>\n",
              "      <th>City</th>\n",
              "      <th>Asymmetrique Activity Index</th>\n",
              "      <th>Asymmetrique Profile Index</th>\n",
              "      <th>Asymmetrique Activity Score</th>\n",
              "      <th>Asymmetrique Profile Score</th>\n",
              "      <th>I agree to pay the amount through cheque</th>\n",
              "      <th>A free copy of Mastering The Interview</th>\n",
              "      <th>Last Notable Activity</th>\n",
              "    </tr>\n",
              "  </thead>\n",
              "  <tbody>\n",
              "    <tr>\n",
              "      <th>0</th>\n",
              "      <td>7927b2df-8bba-4d29-b9a2-b6e0beafe620</td>\n",
              "      <td>660737</td>\n",
              "      <td>API</td>\n",
              "      <td>Olark Chat</td>\n",
              "      <td>No</td>\n",
              "      <td>No</td>\n",
              "      <td>0</td>\n",
              "      <td>0.0</td>\n",
              "      <td>0</td>\n",
              "      <td>0.0</td>\n",
              "      <td>...</td>\n",
              "      <td>No</td>\n",
              "      <td>Select</td>\n",
              "      <td>Select</td>\n",
              "      <td>02.Medium</td>\n",
              "      <td>02.Medium</td>\n",
              "      <td>15.0</td>\n",
              "      <td>15.0</td>\n",
              "      <td>No</td>\n",
              "      <td>No</td>\n",
              "      <td>Modified</td>\n",
              "    </tr>\n",
              "    <tr>\n",
              "      <th>1</th>\n",
              "      <td>2a272436-5132-4136-86fa-dcc88c88f482</td>\n",
              "      <td>660728</td>\n",
              "      <td>API</td>\n",
              "      <td>Organic Search</td>\n",
              "      <td>No</td>\n",
              "      <td>No</td>\n",
              "      <td>0</td>\n",
              "      <td>5.0</td>\n",
              "      <td>674</td>\n",
              "      <td>2.5</td>\n",
              "      <td>...</td>\n",
              "      <td>No</td>\n",
              "      <td>Select</td>\n",
              "      <td>Select</td>\n",
              "      <td>02.Medium</td>\n",
              "      <td>02.Medium</td>\n",
              "      <td>15.0</td>\n",
              "      <td>15.0</td>\n",
              "      <td>No</td>\n",
              "      <td>No</td>\n",
              "      <td>Email Opened</td>\n",
              "    </tr>\n",
              "    <tr>\n",
              "      <th>2</th>\n",
              "      <td>8cc8c611-a219-4f35-ad23-fdfd2656bd8a</td>\n",
              "      <td>660727</td>\n",
              "      <td>Landing Page Submission</td>\n",
              "      <td>Direct Traffic</td>\n",
              "      <td>No</td>\n",
              "      <td>No</td>\n",
              "      <td>1</td>\n",
              "      <td>2.0</td>\n",
              "      <td>1532</td>\n",
              "      <td>2.0</td>\n",
              "      <td>...</td>\n",
              "      <td>No</td>\n",
              "      <td>Potential Lead</td>\n",
              "      <td>Mumbai</td>\n",
              "      <td>02.Medium</td>\n",
              "      <td>01.High</td>\n",
              "      <td>14.0</td>\n",
              "      <td>20.0</td>\n",
              "      <td>No</td>\n",
              "      <td>Yes</td>\n",
              "      <td>Email Opened</td>\n",
              "    </tr>\n",
              "    <tr>\n",
              "      <th>3</th>\n",
              "      <td>0cc2df48-7cf4-4e39-9de9-19797f9b38cc</td>\n",
              "      <td>660719</td>\n",
              "      <td>Landing Page Submission</td>\n",
              "      <td>Direct Traffic</td>\n",
              "      <td>No</td>\n",
              "      <td>No</td>\n",
              "      <td>0</td>\n",
              "      <td>1.0</td>\n",
              "      <td>305</td>\n",
              "      <td>1.0</td>\n",
              "      <td>...</td>\n",
              "      <td>No</td>\n",
              "      <td>Select</td>\n",
              "      <td>Mumbai</td>\n",
              "      <td>02.Medium</td>\n",
              "      <td>01.High</td>\n",
              "      <td>13.0</td>\n",
              "      <td>17.0</td>\n",
              "      <td>No</td>\n",
              "      <td>No</td>\n",
              "      <td>Modified</td>\n",
              "    </tr>\n",
              "    <tr>\n",
              "      <th>4</th>\n",
              "      <td>3256f628-e534-4826-9d63-4a8b88782852</td>\n",
              "      <td>660681</td>\n",
              "      <td>Landing Page Submission</td>\n",
              "      <td>Google</td>\n",
              "      <td>No</td>\n",
              "      <td>No</td>\n",
              "      <td>1</td>\n",
              "      <td>2.0</td>\n",
              "      <td>1428</td>\n",
              "      <td>1.0</td>\n",
              "      <td>...</td>\n",
              "      <td>No</td>\n",
              "      <td>Select</td>\n",
              "      <td>Mumbai</td>\n",
              "      <td>02.Medium</td>\n",
              "      <td>01.High</td>\n",
              "      <td>15.0</td>\n",
              "      <td>18.0</td>\n",
              "      <td>No</td>\n",
              "      <td>No</td>\n",
              "      <td>Modified</td>\n",
              "    </tr>\n",
              "  </tbody>\n",
              "</table>\n",
              "<p>5 rows × 37 columns</p>\n",
              "</div>\n",
              "    <div class=\"colab-df-buttons\">\n",
              "\n",
              "  <div class=\"colab-df-container\">\n",
              "    <button class=\"colab-df-convert\" onclick=\"convertToInteractive('df-6d419bb4-1b63-435c-8ae2-46c81eb23d5c')\"\n",
              "            title=\"Convert this dataframe to an interactive table.\"\n",
              "            style=\"display:none;\">\n",
              "\n",
              "  <svg xmlns=\"http://www.w3.org/2000/svg\" height=\"24px\" viewBox=\"0 -960 960 960\">\n",
              "    <path d=\"M120-120v-720h720v720H120Zm60-500h600v-160H180v160Zm220 220h160v-160H400v160Zm0 220h160v-160H400v160ZM180-400h160v-160H180v160Zm440 0h160v-160H620v160ZM180-180h160v-160H180v160Zm440 0h160v-160H620v160Z\"/>\n",
              "  </svg>\n",
              "    </button>\n",
              "\n",
              "  <style>\n",
              "    .colab-df-container {\n",
              "      display:flex;\n",
              "      gap: 12px;\n",
              "    }\n",
              "\n",
              "    .colab-df-convert {\n",
              "      background-color: #E8F0FE;\n",
              "      border: none;\n",
              "      border-radius: 50%;\n",
              "      cursor: pointer;\n",
              "      display: none;\n",
              "      fill: #1967D2;\n",
              "      height: 32px;\n",
              "      padding: 0 0 0 0;\n",
              "      width: 32px;\n",
              "    }\n",
              "\n",
              "    .colab-df-convert:hover {\n",
              "      background-color: #E2EBFA;\n",
              "      box-shadow: 0px 1px 2px rgba(60, 64, 67, 0.3), 0px 1px 3px 1px rgba(60, 64, 67, 0.15);\n",
              "      fill: #174EA6;\n",
              "    }\n",
              "\n",
              "    .colab-df-buttons div {\n",
              "      margin-bottom: 4px;\n",
              "    }\n",
              "\n",
              "    [theme=dark] .colab-df-convert {\n",
              "      background-color: #3B4455;\n",
              "      fill: #D2E3FC;\n",
              "    }\n",
              "\n",
              "    [theme=dark] .colab-df-convert:hover {\n",
              "      background-color: #434B5C;\n",
              "      box-shadow: 0px 1px 3px 1px rgba(0, 0, 0, 0.15);\n",
              "      filter: drop-shadow(0px 1px 2px rgba(0, 0, 0, 0.3));\n",
              "      fill: #FFFFFF;\n",
              "    }\n",
              "  </style>\n",
              "\n",
              "    <script>\n",
              "      const buttonEl =\n",
              "        document.querySelector('#df-6d419bb4-1b63-435c-8ae2-46c81eb23d5c button.colab-df-convert');\n",
              "      buttonEl.style.display =\n",
              "        google.colab.kernel.accessAllowed ? 'block' : 'none';\n",
              "\n",
              "      async function convertToInteractive(key) {\n",
              "        const element = document.querySelector('#df-6d419bb4-1b63-435c-8ae2-46c81eb23d5c');\n",
              "        const dataTable =\n",
              "          await google.colab.kernel.invokeFunction('convertToInteractive',\n",
              "                                                    [key], {});\n",
              "        if (!dataTable) return;\n",
              "\n",
              "        const docLinkHtml = 'Like what you see? Visit the ' +\n",
              "          '<a target=\"_blank\" href=https://colab.research.google.com/notebooks/data_table.ipynb>data table notebook</a>'\n",
              "          + ' to learn more about interactive tables.';\n",
              "        element.innerHTML = '';\n",
              "        dataTable['output_type'] = 'display_data';\n",
              "        await google.colab.output.renderOutput(dataTable, element);\n",
              "        const docLink = document.createElement('div');\n",
              "        docLink.innerHTML = docLinkHtml;\n",
              "        element.appendChild(docLink);\n",
              "      }\n",
              "    </script>\n",
              "  </div>\n",
              "\n",
              "\n",
              "<div id=\"df-1db6be5d-8f81-41f0-ac6e-3488252051e1\">\n",
              "  <button class=\"colab-df-quickchart\" onclick=\"quickchart('df-1db6be5d-8f81-41f0-ac6e-3488252051e1')\"\n",
              "            title=\"Suggest charts\"\n",
              "            style=\"display:none;\">\n",
              "\n",
              "<svg xmlns=\"http://www.w3.org/2000/svg\" height=\"24px\"viewBox=\"0 0 24 24\"\n",
              "     width=\"24px\">\n",
              "    <g>\n",
              "        <path d=\"M19 3H5c-1.1 0-2 .9-2 2v14c0 1.1.9 2 2 2h14c1.1 0 2-.9 2-2V5c0-1.1-.9-2-2-2zM9 17H7v-7h2v7zm4 0h-2V7h2v10zm4 0h-2v-4h2v4z\"/>\n",
              "    </g>\n",
              "</svg>\n",
              "  </button>\n",
              "\n",
              "<style>\n",
              "  .colab-df-quickchart {\n",
              "      --bg-color: #E8F0FE;\n",
              "      --fill-color: #1967D2;\n",
              "      --hover-bg-color: #E2EBFA;\n",
              "      --hover-fill-color: #174EA6;\n",
              "      --disabled-fill-color: #AAA;\n",
              "      --disabled-bg-color: #DDD;\n",
              "  }\n",
              "\n",
              "  [theme=dark] .colab-df-quickchart {\n",
              "      --bg-color: #3B4455;\n",
              "      --fill-color: #D2E3FC;\n",
              "      --hover-bg-color: #434B5C;\n",
              "      --hover-fill-color: #FFFFFF;\n",
              "      --disabled-bg-color: #3B4455;\n",
              "      --disabled-fill-color: #666;\n",
              "  }\n",
              "\n",
              "  .colab-df-quickchart {\n",
              "    background-color: var(--bg-color);\n",
              "    border: none;\n",
              "    border-radius: 50%;\n",
              "    cursor: pointer;\n",
              "    display: none;\n",
              "    fill: var(--fill-color);\n",
              "    height: 32px;\n",
              "    padding: 0;\n",
              "    width: 32px;\n",
              "  }\n",
              "\n",
              "  .colab-df-quickchart:hover {\n",
              "    background-color: var(--hover-bg-color);\n",
              "    box-shadow: 0 1px 2px rgba(60, 64, 67, 0.3), 0 1px 3px 1px rgba(60, 64, 67, 0.15);\n",
              "    fill: var(--button-hover-fill-color);\n",
              "  }\n",
              "\n",
              "  .colab-df-quickchart-complete:disabled,\n",
              "  .colab-df-quickchart-complete:disabled:hover {\n",
              "    background-color: var(--disabled-bg-color);\n",
              "    fill: var(--disabled-fill-color);\n",
              "    box-shadow: none;\n",
              "  }\n",
              "\n",
              "  .colab-df-spinner {\n",
              "    border: 2px solid var(--fill-color);\n",
              "    border-color: transparent;\n",
              "    border-bottom-color: var(--fill-color);\n",
              "    animation:\n",
              "      spin 1s steps(1) infinite;\n",
              "  }\n",
              "\n",
              "  @keyframes spin {\n",
              "    0% {\n",
              "      border-color: transparent;\n",
              "      border-bottom-color: var(--fill-color);\n",
              "      border-left-color: var(--fill-color);\n",
              "    }\n",
              "    20% {\n",
              "      border-color: transparent;\n",
              "      border-left-color: var(--fill-color);\n",
              "      border-top-color: var(--fill-color);\n",
              "    }\n",
              "    30% {\n",
              "      border-color: transparent;\n",
              "      border-left-color: var(--fill-color);\n",
              "      border-top-color: var(--fill-color);\n",
              "      border-right-color: var(--fill-color);\n",
              "    }\n",
              "    40% {\n",
              "      border-color: transparent;\n",
              "      border-right-color: var(--fill-color);\n",
              "      border-top-color: var(--fill-color);\n",
              "    }\n",
              "    60% {\n",
              "      border-color: transparent;\n",
              "      border-right-color: var(--fill-color);\n",
              "    }\n",
              "    80% {\n",
              "      border-color: transparent;\n",
              "      border-right-color: var(--fill-color);\n",
              "      border-bottom-color: var(--fill-color);\n",
              "    }\n",
              "    90% {\n",
              "      border-color: transparent;\n",
              "      border-bottom-color: var(--fill-color);\n",
              "    }\n",
              "  }\n",
              "</style>\n",
              "\n",
              "  <script>\n",
              "    async function quickchart(key) {\n",
              "      const quickchartButtonEl =\n",
              "        document.querySelector('#' + key + ' button');\n",
              "      quickchartButtonEl.disabled = true;  // To prevent multiple clicks.\n",
              "      quickchartButtonEl.classList.add('colab-df-spinner');\n",
              "      try {\n",
              "        const charts = await google.colab.kernel.invokeFunction(\n",
              "            'suggestCharts', [key], {});\n",
              "      } catch (error) {\n",
              "        console.error('Error during call to suggestCharts:', error);\n",
              "      }\n",
              "      quickchartButtonEl.classList.remove('colab-df-spinner');\n",
              "      quickchartButtonEl.classList.add('colab-df-quickchart-complete');\n",
              "    }\n",
              "    (() => {\n",
              "      let quickchartButtonEl =\n",
              "        document.querySelector('#df-1db6be5d-8f81-41f0-ac6e-3488252051e1 button');\n",
              "      quickchartButtonEl.style.display =\n",
              "        google.colab.kernel.accessAllowed ? 'block' : 'none';\n",
              "    })();\n",
              "  </script>\n",
              "</div>\n",
              "\n",
              "    </div>\n",
              "  </div>\n"
            ],
            "application/vnd.google.colaboratory.intrinsic+json": {
              "type": "dataframe",
              "variable_name": "leads_df"
            }
          },
          "metadata": {},
          "execution_count": 4
        }
      ]
    },
    {
      "cell_type": "code",
      "source": [
        "print(\"Missing values in each column:\\n\", leads_df.isnull().sum())"
      ],
      "metadata": {
        "colab": {
          "base_uri": "https://localhost:8080/"
        },
        "id": "eZQ9H2MtkPbU",
        "outputId": "e47174db-aed6-41b6-ab66-ea231625ea38"
      },
      "execution_count": null,
      "outputs": [
        {
          "output_type": "stream",
          "name": "stdout",
          "text": [
            "Missing values in each column:\n",
            " Prospect ID                                         0\n",
            "Lead Number                                         0\n",
            "Lead Origin                                         0\n",
            "Lead Source                                        36\n",
            "Do Not Email                                        0\n",
            "Do Not Call                                         0\n",
            "Converted                                           0\n",
            "TotalVisits                                       137\n",
            "Total Time Spent on Website                         0\n",
            "Page Views Per Visit                              137\n",
            "Last Activity                                     103\n",
            "Country                                          2461\n",
            "Specialization                                   1438\n",
            "How did you hear about X Education               2207\n",
            "What is your current occupation                  2690\n",
            "What matters most to you in choosing a course    2709\n",
            "Search                                              0\n",
            "Magazine                                            0\n",
            "Newspaper Article                                   0\n",
            "X Education Forums                                  0\n",
            "Newspaper                                           0\n",
            "Digital Advertisement                               0\n",
            "Through Recommendations                             0\n",
            "Receive More Updates About Our Courses              0\n",
            "Tags                                             3353\n",
            "Lead Quality                                     4767\n",
            "Update me on Supply Chain Content                   0\n",
            "Get updates on DM Content                           0\n",
            "Lead Profile                                     2709\n",
            "City                                             1420\n",
            "Asymmetrique Activity Index                      4218\n",
            "Asymmetrique Profile Index                       4218\n",
            "Asymmetrique Activity Score                      4218\n",
            "Asymmetrique Profile Score                       4218\n",
            "I agree to pay the amount through cheque            0\n",
            "A free copy of Mastering The Interview              0\n",
            "Last Notable Activity                               0\n",
            "dtype: int64\n"
          ]
        }
      ]
    },
    {
      "cell_type": "markdown",
      "source": [
        "##Part 3: Data Cleaning"
      ],
      "metadata": {
        "id": "JDiAys_gkX_v"
      }
    },
    {
      "cell_type": "code",
      "source": [
        "# Replace placeholder values with NaN\n",
        "leads_df.replace(\"Select\", np.nan, inplace=True)"
      ],
      "metadata": {
        "id": "kAyevY2JkXrd"
      },
      "execution_count": null,
      "outputs": []
    },
    {
      "cell_type": "code",
      "source": [
        "missing_values = (leads_df.isnull().sum() / len(leads_df)) * 100\n",
        "missing_values = missing_values[missing_values > 0]\n",
        "print(\"Columns with missing values:\\n\", missing_values)"
      ],
      "metadata": {
        "colab": {
          "base_uri": "https://localhost:8080/"
        },
        "id": "IJyJ1XPbkTth",
        "outputId": "8d2de9ed-4408-4e99-ad30-a7afd7cc463e"
      },
      "execution_count": null,
      "outputs": [
        {
          "output_type": "stream",
          "name": "stdout",
          "text": [
            "Columns with missing values:\n",
            " Lead Source                                       0.389610\n",
            "TotalVisits                                       1.482684\n",
            "Page Views Per Visit                              1.482684\n",
            "Last Activity                                     1.114719\n",
            "Country                                          26.634199\n",
            "Specialization                                   36.580087\n",
            "How did you hear about X Education               78.463203\n",
            "What is your current occupation                  29.112554\n",
            "What matters most to you in choosing a course    29.318182\n",
            "Tags                                             36.287879\n",
            "Lead Quality                                     51.590909\n",
            "Lead Profile                                     74.188312\n",
            "City                                             39.707792\n",
            "Asymmetrique Activity Index                      45.649351\n",
            "Asymmetrique Profile Index                       45.649351\n",
            "Asymmetrique Activity Score                      45.649351\n",
            "Asymmetrique Profile Score                       45.649351\n",
            "dtype: float64\n"
          ]
        }
      ]
    },
    {
      "cell_type": "code",
      "source": [
        "missing_values40 = missing_values[missing_values > 40]\n",
        "print(\"Columns with missing values:\\n\", missing_values40)"
      ],
      "metadata": {
        "colab": {
          "base_uri": "https://localhost:8080/"
        },
        "id": "8b0gG8CUk48q",
        "outputId": "141ffc7c-2dc5-43fe-a9ad-246ecb6e63a6"
      },
      "execution_count": null,
      "outputs": [
        {
          "output_type": "stream",
          "name": "stdout",
          "text": [
            "Columns with missing values:\n",
            " How did you hear about X Education    78.463203\n",
            "Lead Quality                          51.590909\n",
            "Lead Profile                          74.188312\n",
            "Asymmetrique Activity Index           45.649351\n",
            "Asymmetrique Profile Index            45.649351\n",
            "Asymmetrique Activity Score           45.649351\n",
            "Asymmetrique Profile Score            45.649351\n",
            "dtype: float64\n"
          ]
        }
      ]
    },
    {
      "cell_type": "code",
      "source": [
        "# Drop columns with more than 40% missing values\n",
        "missing_threshold = 0.4\n",
        "columns_to_drop = leads_df.columns[leads_df.isnull().mean() > missing_threshold]\n",
        "leads_df.drop(columns=columns_to_drop, inplace=True)\n",
        "print(f\"Dropped columns with high missing values: {list(columns_to_drop)}\")"
      ],
      "metadata": {
        "colab": {
          "base_uri": "https://localhost:8080/"
        },
        "id": "c8G0SI1IlLhA",
        "outputId": "8dc9bdaf-e7fd-421e-c0de-cb7b49dd7812"
      },
      "execution_count": null,
      "outputs": [
        {
          "output_type": "stream",
          "name": "stdout",
          "text": [
            "Dropped columns with high missing values: ['How did you hear about X Education', 'Lead Quality', 'Lead Profile', 'Asymmetrique Activity Index', 'Asymmetrique Profile Index', 'Asymmetrique Activity Score', 'Asymmetrique Profile Score']\n"
          ]
        }
      ]
    },
    {
      "cell_type": "code",
      "source": [
        "categorical_cols = leads_df.select_dtypes(include=['object']).columns\n",
        "categorical_cols"
      ],
      "metadata": {
        "colab": {
          "base_uri": "https://localhost:8080/"
        },
        "id": "dM3oMma9lUFd",
        "outputId": "b1c2701e-f58b-46c0-ef09-c7e39d455887"
      },
      "execution_count": null,
      "outputs": [
        {
          "output_type": "execute_result",
          "data": {
            "text/plain": [
              "Index(['Prospect ID', 'Lead Origin', 'Lead Source', 'Do Not Email',\n",
              "       'Do Not Call', 'Last Activity', 'Country', 'Specialization',\n",
              "       'What is your current occupation',\n",
              "       'What matters most to you in choosing a course', 'Search', 'Magazine',\n",
              "       'Newspaper Article', 'X Education Forums', 'Newspaper',\n",
              "       'Digital Advertisement', 'Through Recommendations',\n",
              "       'Receive More Updates About Our Courses', 'Tags',\n",
              "       'Update me on Supply Chain Content', 'Get updates on DM Content',\n",
              "       'City', 'I agree to pay the amount through cheque',\n",
              "       'A free copy of Mastering The Interview', 'Last Notable Activity'],\n",
              "      dtype='object')"
            ]
          },
          "metadata": {},
          "execution_count": 10
        }
      ]
    },
    {
      "cell_type": "code",
      "source": [
        "for col in categorical_cols:\n",
        "    if leads_df[col].isnull().sum() > 0:\n",
        "        leads_df[col].fillna(leads_df[col].mode()[0], inplace=True)"
      ],
      "metadata": {
        "colab": {
          "base_uri": "https://localhost:8080/"
        },
        "id": "REMps37yleq3",
        "outputId": "a9fb411d-d49b-4d76-a79e-879ca3c62e24"
      },
      "execution_count": null,
      "outputs": [
        {
          "output_type": "stream",
          "name": "stderr",
          "text": [
            "<ipython-input-11-e5bc25dbf81f>:3: FutureWarning: A value is trying to be set on a copy of a DataFrame or Series through chained assignment using an inplace method.\n",
            "The behavior will change in pandas 3.0. This inplace method will never work because the intermediate object on which we are setting values always behaves as a copy.\n",
            "\n",
            "For example, when doing 'df[col].method(value, inplace=True)', try using 'df.method({col: value}, inplace=True)' or df[col] = df[col].method(value) instead, to perform the operation inplace on the original object.\n",
            "\n",
            "\n",
            "  leads_df[col].fillna(leads_df[col].mode()[0], inplace=True)\n"
          ]
        }
      ]
    },
    {
      "cell_type": "code",
      "source": [
        "numerical_cols = leads_df.select_dtypes(include=['float64', 'int64']).columns\n",
        "numerical_cols"
      ],
      "metadata": {
        "colab": {
          "base_uri": "https://localhost:8080/"
        },
        "id": "Y-zY27dkl_a5",
        "outputId": "c464e56d-7832-4533-bb7f-53c06ab7455f"
      },
      "execution_count": null,
      "outputs": [
        {
          "output_type": "execute_result",
          "data": {
            "text/plain": [
              "Index(['Lead Number', 'Converted', 'TotalVisits',\n",
              "       'Total Time Spent on Website', 'Page Views Per Visit'],\n",
              "      dtype='object')"
            ]
          },
          "metadata": {},
          "execution_count": 12
        }
      ]
    },
    {
      "cell_type": "code",
      "source": [
        "for col in numerical_cols:\n",
        "    if leads_df[col].isnull().sum() > 0:\n",
        "        leads_df[col].fillna(leads_df[col].median(), inplace=True)"
      ],
      "metadata": {
        "colab": {
          "base_uri": "https://localhost:8080/"
        },
        "id": "7D_V7qakmClD",
        "outputId": "252dbcfe-d5f0-4dbc-f066-9c7c6fe64250"
      },
      "execution_count": null,
      "outputs": [
        {
          "output_type": "stream",
          "name": "stderr",
          "text": [
            "<ipython-input-13-d54e8a7a838b>:3: FutureWarning: A value is trying to be set on a copy of a DataFrame or Series through chained assignment using an inplace method.\n",
            "The behavior will change in pandas 3.0. This inplace method will never work because the intermediate object on which we are setting values always behaves as a copy.\n",
            "\n",
            "For example, when doing 'df[col].method(value, inplace=True)', try using 'df.method({col: value}, inplace=True)' or df[col] = df[col].method(value) instead, to perform the operation inplace on the original object.\n",
            "\n",
            "\n",
            "  leads_df[col].fillna(leads_df[col].median(), inplace=True)\n"
          ]
        }
      ]
    },
    {
      "cell_type": "code",
      "source": [
        "irrelevant_columns = ['Prospect ID', 'Lead Number']\n",
        "leads_df.drop(columns=irrelevant_columns, errors='ignore', inplace=True)\n",
        "print(f\"Dropped irrelevant columns: {irrelevant_columns}\")"
      ],
      "metadata": {
        "colab": {
          "base_uri": "https://localhost:8080/"
        },
        "id": "_pqDcD7SmG3y",
        "outputId": "ab13383b-3e38-4558-d5b3-a06566d53b3e"
      },
      "execution_count": null,
      "outputs": [
        {
          "output_type": "stream",
          "name": "stdout",
          "text": [
            "Dropped irrelevant columns: ['Prospect ID', 'Lead Number']\n"
          ]
        }
      ]
    },
    {
      "cell_type": "code",
      "source": [
        "print(\"Remaining missing values:\", leads_df.isnull().sum().sum())"
      ],
      "metadata": {
        "colab": {
          "base_uri": "https://localhost:8080/"
        },
        "id": "liV90qN4mjFe",
        "outputId": "f764a310-d551-4eeb-eb81-8b142220a980"
      },
      "execution_count": null,
      "outputs": [
        {
          "output_type": "stream",
          "name": "stdout",
          "text": [
            "Remaining missing values: 0\n"
          ]
        }
      ]
    },
    {
      "cell_type": "markdown",
      "source": [
        "**Part 3A: Convert Binary Categorical Columns**"
      ],
      "metadata": {
        "id": "6vb0dR0amosI"
      }
    },
    {
      "cell_type": "code",
      "source": [
        "binary_columns = [\n",
        "    'Do Not Email', 'Do Not Call', 'Search', 'Magazine', 'Newspaper Article',\n",
        "    'Receive More Updates About Our Courses', 'Through Recommendations',\n",
        "    'Update me on Supply Chain Content', 'Get updates on DM Content',\n",
        "    'I agree to pay the amount through cheque'\n",
        "]\n",
        "\n",
        "for col in binary_columns:\n",
        "    if col in leads_df.columns:\n",
        "        leads_df[col] = leads_df[col].map({'Yes': 1, 'No': 0})\n",
        "    else:\n",
        "        print(f\"Warning: Column '{col}' not found.\")"
      ],
      "metadata": {
        "id": "7BkyZKi7mkac"
      },
      "execution_count": null,
      "outputs": []
    },
    {
      "cell_type": "markdown",
      "source": [
        "**Part 3B: Dummy Variable for Categorical Columns**"
      ],
      "metadata": {
        "id": "2ruCpkvem9Ua"
      }
    },
    {
      "cell_type": "code",
      "source": [
        "# Create dummy variables for categorical columns with multiple levels\n",
        "categorical_columns = leads_df.select_dtypes(include=['object']).columns\n",
        "leads_df = pd.get_dummies(leads_df, columns=categorical_columns, drop_first=True)\n",
        "\n",
        "# Verify dummy variable creation\n",
        "print(\"Shape after dummy variable creation:\", leads_df.shape)"
      ],
      "metadata": {
        "colab": {
          "base_uri": "https://localhost:8080/"
        },
        "id": "P_q2LmeRm9pb",
        "outputId": "1bb155f0-7e0d-41da-e4db-afb715323083"
      },
      "execution_count": null,
      "outputs": [
        {
          "output_type": "stream",
          "name": "stdout",
          "text": [
            "Shape after dummy variable creation: (9240, 164)\n"
          ]
        }
      ]
    },
    {
      "cell_type": "markdown",
      "source": [
        "Part3C: Combine Less Frequent Columns\n",
        "**bold text**"
      ],
      "metadata": {
        "id": "Hm3be5Up7emF"
      }
    },
    {
      "cell_type": "code",
      "source": [
        "# Combine infrequent categories\n",
        "threshold = 0.01\n",
        "low_freq_cols = []\n",
        "\n",
        "for col in leads_df.columns:\n",
        "    if col.startswith('Lead Source_') and leads_df[col].sum() / len(leads_df) < threshold:\n",
        "        low_freq_cols.append(col)\n",
        "\n",
        "# Create a new column 'Lead Source_Others' for combined categories\n",
        "leads_df['Lead Source_Others'] = leads_df[low_freq_cols].sum(axis=1)\n",
        "\n",
        "# Drop low-frequency dummy variables\n",
        "leads_df.drop(columns=low_freq_cols, inplace=True)\n",
        "\n",
        "print(\"Updated DataFrame shape:\", leads_df.shape)"
      ],
      "metadata": {
        "colab": {
          "base_uri": "https://localhost:8080/"
        },
        "id": "Tj-ra4MQnACt",
        "outputId": "7f84e5d3-ec9a-4732-87e6-fa08bbed471b"
      },
      "execution_count": null,
      "outputs": [
        {
          "output_type": "stream",
          "name": "stdout",
          "text": [
            "Updated DataFrame shape: (9240, 152)\n"
          ]
        }
      ]
    },
    {
      "cell_type": "code",
      "source": [
        "from scipy.stats import chi2_contingency\n",
        "\n",
        "# Define the target variable\n",
        "target_variable = 'Converted'  # Replace with the actual target column name in your dataset\n",
        "\n",
        "# Ensure the target variable is binary\n",
        "if target_variable in leads_df.columns and len(leads_df[target_variable].unique()) == 2:\n",
        "    # Perform Chi-square test for each dummy variable\n",
        "    significant_features = []\n",
        "    for col in leads_df.columns:\n",
        "        if col != target_variable:\n",
        "            contingency_table = pd.crosstab(leads_df[col], leads_df[target_variable])\n",
        "            _, p_value, _, _ = chi2_contingency(contingency_table)\n",
        "            if p_value < 0.05:  # Consider features with p-value < 0.05 as significant\n",
        "                significant_features.append(col)\n",
        "\n",
        "    # Keep only significant features\n",
        "    leads_df = leads_df[significant_features + [target_variable]]\n",
        "\n",
        "    print(\"\\nSignificant features after Chi-square test:\")\n",
        "    print(significant_features)\n",
        "else:\n",
        "    print(f\"Error: Target variable '{target_variable}' not found or not binary.\")\n",
        "\n"
      ],
      "metadata": {
        "colab": {
          "base_uri": "https://localhost:8080/"
        },
        "id": "-PUiHjXLnFHF",
        "outputId": "b7602cee-e1a1-4e38-c372-7078fc885695"
      },
      "execution_count": null,
      "outputs": [
        {
          "output_type": "stream",
          "name": "stdout",
          "text": [
            "\n",
            "Significant features after Chi-square test:\n",
            "['Do Not Email', 'TotalVisits', 'Total Time Spent on Website', 'Page Views Per Visit', 'Lead Origin_Landing Page Submission', 'Lead Origin_Lead Add Form', 'Lead Origin_Lead Import', 'Lead Source_Direct Traffic', 'Lead Source_Google', 'Lead Source_Olark Chat', 'Lead Source_Reference', 'Lead Source_Referral Sites', 'Lead Source_Welingak Website', 'Last Activity_Converted to Lead', 'Last Activity_Email Bounced', 'Last Activity_Email Link Clicked', 'Last Activity_Form Submitted on Website', 'Last Activity_Had a Phone Conversation', 'Last Activity_Olark Chat Conversation', 'Last Activity_Page Visited on Website', 'Last Activity_SMS Sent', 'Country_India', 'Country_United States', 'Specialization_Business Administration', 'Specialization_Finance Management', 'Specialization_Healthcare Management', 'Specialization_Human Resource Management', 'Specialization_Marketing Management', 'Specialization_Operations Management', 'What is your current occupation_Housewife', 'What is your current occupation_Unemployed', 'What is your current occupation_Working Professional', 'Tags_Busy', 'Tags_Closed by Horizzon', 'Tags_Diploma holder (Not Eligible)', 'Tags_Graduation in progress', 'Tags_Interested  in full time MBA', 'Tags_Interested in Next batch', 'Tags_Interested in other courses', 'Tags_Lost to EINS', 'Tags_Not doing further education', 'Tags_Ringing', 'Tags_Will revert after reading the email', 'Tags_invalid number', 'Tags_number not provided', 'Tags_opp hangup', 'Tags_switched off', 'Tags_wrong number given', 'City_Other Cities of Maharashtra', 'City_Thane & Outskirts', 'A free copy of Mastering The Interview_Yes', 'Last Notable Activity_Email Bounced', 'Last Notable Activity_Email Link Clicked', 'Last Notable Activity_Email Opened', 'Last Notable Activity_Had a Phone Conversation', 'Last Notable Activity_Modified', 'Last Notable Activity_Olark Chat Conversation', 'Last Notable Activity_Page Visited on Website', 'Last Notable Activity_SMS Sent', 'Last Notable Activity_Unreachable', 'Lead Source_Others']\n"
          ]
        }
      ]
    },
    {
      "cell_type": "markdown",
      "source": [
        "## Part 4: Data Prep"
      ],
      "metadata": {
        "id": "ABtujzr9zwSM"
      }
    },
    {
      "cell_type": "markdown",
      "source": [
        "**Correlation between Numerical Variables**\n"
      ],
      "metadata": {
        "id": "JtmYBP687zh2"
      }
    },
    {
      "cell_type": "code",
      "source": [
        "\n",
        "numerical_features = leads_df.select_dtypes(include=['float64', 'int64']).columns\n",
        "correlation_matrix = leads_df[numerical_features].corr()\n",
        "\n",
        "\n",
        "import seaborn as sns\n",
        "import matplotlib.pyplot as plt\n",
        "\n",
        "plt.figure(figsize=(10, 8))\n",
        "sns.heatmap(correlation_matrix, annot=True, cmap='coolwarm', fmt=\".2f\")\n",
        "plt.title('Correlation Matrix of Numerical Features')\n",
        "plt.show()\n",
        "\n",
        "\n",
        "threshold = 0.75\n",
        "correlated_features = set()\n",
        "for i in range(len(correlation_matrix.columns)):\n",
        "    for j in range(i):\n",
        "        if abs(correlation_matrix.iloc[i, j]) > threshold:\n",
        "            correlated_features.add(correlation_matrix.columns[i])\n",
        "\n",
        "print(\"Highly correlated numerical features:\", correlated_features)\n"
      ],
      "metadata": {
        "colab": {
          "base_uri": "https://localhost:8080/",
          "height": 899
        },
        "id": "NfhlLRgcqkO2",
        "outputId": "f445815d-b3de-43d7-d41d-db316f736bbd"
      },
      "execution_count": null,
      "outputs": [
        {
          "output_type": "display_data",
          "data": {
            "text/plain": [
              "<Figure size 1000x800 with 2 Axes>"
            ],
            "image/png": "[encoded data removed]"
          },
          "metadata": {}
        },
        {
          "output_type": "stream",
          "name": "stdout",
          "text": [
            "Highly correlated numerical features: set()\n"
          ]
        }
      ]
    },
    {
      "cell_type": "markdown",
      "source": [
        "there’s no immediate need to drop numerical variables due to redundancy"
      ],
      "metadata": {
        "id": "pipvftKEwh08"
      }
    },
    {
      "cell_type": "markdown",
      "source": [
        "**Using RFE to reduce feature set**\n"
      ],
      "metadata": {
        "id": "K5FvJvCv78cv"
      }
    },
    {
      "cell_type": "code",
      "source": [
        "from sklearn.feature_selection import RFE\n",
        "from sklearn.linear_model import LogisticRegression\n",
        "\n",
        "\n",
        "model = LogisticRegression(max_iter=1000, random_state=42)\n",
        "\n",
        "\n",
        "rfe = RFE(estimator=model, n_features_to_select=20)\n",
        "X = leads_df[significant_features]\n",
        "y = leads_df['Converted']\n",
        "\n",
        "rfe.fit(X, y)\n",
        "\n",
        "# Identify selected features\n",
        "selected_features_rfe = X.columns[rfe.support_]\n",
        "print(\"Top features selected by RFE:\", selected_features_rfe.tolist())\n"
      ],
      "metadata": {
        "colab": {
          "base_uri": "https://localhost:8080/"
        },
        "id": "KtogAEFkuwjn",
        "outputId": "eb4f2f1a-4bc6-4ebe-87ef-8f4c007f1a16"
      },
      "execution_count": null,
      "outputs": [
        {
          "output_type": "stream",
          "name": "stderr",
          "text": [
            "/usr/local/lib/python3.10/dist-packages/sklearn/linear_model/_logistic.py:469: ConvergenceWarning: lbfgs failed to converge (status=1):\n",
            "STOP: TOTAL NO. of ITERATIONS REACHED LIMIT.\n",
            "\n",
            "Increase the number of iterations (max_iter) or scale the data as shown in:\n",
            "    https://scikit-learn.org/stable/modules/preprocessing.html\n",
            "Please also refer to the documentation for alternative solver options:\n",
            "    https://scikit-learn.org/stable/modules/linear_model.html#logistic-regression\n",
            "  n_iter_i = _check_optimize_result(\n",
            "/usr/local/lib/python3.10/dist-packages/sklearn/linear_model/_logistic.py:469: ConvergenceWarning: lbfgs failed to converge (status=1):\n",
            "STOP: TOTAL NO. of ITERATIONS REACHED LIMIT.\n",
            "\n",
            "Increase the number of iterations (max_iter) or scale the data as shown in:\n",
            "    https://scikit-learn.org/stable/modules/preprocessing.html\n",
            "Please also refer to the documentation for alternative solver options:\n",
            "    https://scikit-learn.org/stable/modules/linear_model.html#logistic-regression\n",
            "  n_iter_i = _check_optimize_result(\n"
          ]
        },
        {
          "output_type": "stream",
          "name": "stdout",
          "text": [
            "Top features selected by RFE: ['Do Not Email', 'Lead Origin_Lead Add Form', 'Lead Source_Welingak Website', 'Last Activity_Converted to Lead', 'Last Activity_Olark Chat Conversation', 'What is your current occupation_Unemployed', 'What is your current occupation_Working Professional', 'Tags_Busy', 'Tags_Closed by Horizzon', 'Tags_Interested in Next batch', 'Tags_Lost to EINS', 'Tags_Not doing further education', 'Tags_Ringing', 'Tags_Will revert after reading the email', 'Tags_invalid number', 'Tags_number not provided', 'Tags_switched off', 'Tags_wrong number given', 'Last Notable Activity_Had a Phone Conversation', 'Last Notable Activity_SMS Sent']\n"
          ]
        }
      ]
    },
    {
      "cell_type": "markdown",
      "source": [
        "Scaling the columns"
      ],
      "metadata": {
        "id": "0Ona6JXS8DCH"
      }
    },
    {
      "cell_type": "code",
      "source": [
        "from sklearn.preprocessing import StandardScaler\n",
        "\n",
        "\n",
        "scaler = StandardScaler()\n",
        "numerical_features = ['TotalVisits', 'Total Time Spent on Website', 'Page Views Per Visit']\n",
        "leads_df[numerical_features] = scaler.fit_transform(leads_df[numerical_features])\n",
        "\n",
        "\n"
      ],
      "metadata": {
        "id": "MzonrEPYvcIF"
      },
      "execution_count": null,
      "outputs": []
    },
    {
      "cell_type": "markdown",
      "source": [
        "Re-running RFE after scaling the cols\n"
      ],
      "metadata": {
        "id": "rdWbECdB8lLi"
      }
    },
    {
      "cell_type": "code",
      "source": [
        "from sklearn.feature_selection import RFE\n",
        "from sklearn.linear_model import LogisticRegression\n",
        "\n",
        "# Define the model\n",
        "model = LogisticRegression(max_iter=1000, random_state=42)\n",
        "\n",
        "# Use RFE to select top features\n",
        "rfe = RFE(estimator=model, n_features_to_select=20)\n",
        "X = leads_df[significant_features]\n",
        "y = leads_df['Converted']\n",
        "\n",
        "rfe.fit(X, y)\n",
        "\n",
        "# Identify selected features\n",
        "selected_features_rfe = X.columns[rfe.support_]\n",
        "print(\"Top features selected by RFE:\", selected_features_rfe.tolist())"
      ],
      "metadata": {
        "colab": {
          "base_uri": "https://localhost:8080/"
        },
        "id": "De0K4mm-vtKY",
        "outputId": "8baa2fab-cf72-471f-ea91-7ba68cd78227"
      },
      "execution_count": null,
      "outputs": [
        {
          "output_type": "stream",
          "name": "stdout",
          "text": [
            "Top features selected by RFE: ['Do Not Email', 'Total Time Spent on Website', 'Lead Origin_Lead Add Form', 'Lead Source_Welingak Website', 'What is your current occupation_Unemployed', 'What is your current occupation_Working Professional', 'Tags_Busy', 'Tags_Closed by Horizzon', 'Tags_Lost to EINS', 'Tags_Not doing further education', 'Tags_Ringing', 'Tags_Will revert after reading the email', 'Tags_invalid number', 'Tags_number not provided', 'Tags_switched off', 'Tags_wrong number given', 'Last Notable Activity_Had a Phone Conversation', 'Last Notable Activity_Modified', 'Last Notable Activity_Olark Chat Conversation', 'Last Notable Activity_SMS Sent']\n"
          ]
        }
      ]
    },
    {
      "cell_type": "code",
      "source": [
        "print(\"RFE selected features:\", selected_features_rfe)\n",
        "print(\"Chi-square significant features:\", significant_features)\n",
        "print(\"RFE features type:\", type(selected_features_rfe))\n",
        "print(\"Chi-square features type:\", type(significant_features))"
      ],
      "metadata": {
        "colab": {
          "base_uri": "https://localhost:8080/"
        },
        "id": "EQLuetU7xA4Q",
        "outputId": "c629cf7a-4cdf-4318-bc98-a422403739a2"
      },
      "execution_count": null,
      "outputs": [
        {
          "output_type": "stream",
          "name": "stdout",
          "text": [
            "RFE selected features: Index(['Do Not Email', 'Total Time Spent on Website',\n",
            "       'Lead Origin_Lead Add Form', 'Lead Source_Welingak Website',\n",
            "       'What is your current occupation_Unemployed',\n",
            "       'What is your current occupation_Working Professional', 'Tags_Busy',\n",
            "       'Tags_Closed by Horizzon', 'Tags_Lost to EINS',\n",
            "       'Tags_Not doing further education', 'Tags_Ringing',\n",
            "       'Tags_Will revert after reading the email', 'Tags_invalid number',\n",
            "       'Tags_number not provided', 'Tags_switched off',\n",
            "       'Tags_wrong number given',\n",
            "       'Last Notable Activity_Had a Phone Conversation',\n",
            "       'Last Notable Activity_Modified',\n",
            "       'Last Notable Activity_Olark Chat Conversation',\n",
            "       'Last Notable Activity_SMS Sent'],\n",
            "      dtype='object')\n",
            "Chi-square significant features: ['Do Not Email', 'TotalVisits', 'Total Time Spent on Website', 'Page Views Per Visit', 'Lead Origin_Landing Page Submission', 'Lead Origin_Lead Add Form', 'Lead Origin_Lead Import', 'Lead Source_Direct Traffic', 'Lead Source_Google', 'Lead Source_Olark Chat', 'Lead Source_Reference', 'Lead Source_Referral Sites', 'Lead Source_Welingak Website', 'Last Activity_Converted to Lead', 'Last Activity_Email Bounced', 'Last Activity_Email Link Clicked', 'Last Activity_Form Submitted on Website', 'Last Activity_Had a Phone Conversation', 'Last Activity_Olark Chat Conversation', 'Last Activity_Page Visited on Website', 'Last Activity_SMS Sent', 'Country_India', 'Country_United States', 'Specialization_Business Administration', 'Specialization_Finance Management', 'Specialization_Healthcare Management', 'Specialization_Human Resource Management', 'Specialization_Marketing Management', 'Specialization_Operations Management', 'What is your current occupation_Housewife', 'What is your current occupation_Unemployed', 'What is your current occupation_Working Professional', 'Tags_Busy', 'Tags_Closed by Horizzon', 'Tags_Diploma holder (Not Eligible)', 'Tags_Graduation in progress', 'Tags_Interested  in full time MBA', 'Tags_Interested in Next batch', 'Tags_Interested in other courses', 'Tags_Lost to EINS', 'Tags_Not doing further education', 'Tags_Ringing', 'Tags_Will revert after reading the email', 'Tags_invalid number', 'Tags_number not provided', 'Tags_opp hangup', 'Tags_switched off', 'Tags_wrong number given', 'City_Other Cities of Maharashtra', 'City_Thane & Outskirts', 'A free copy of Mastering The Interview_Yes', 'Last Notable Activity_Email Bounced', 'Last Notable Activity_Email Link Clicked', 'Last Notable Activity_Email Opened', 'Last Notable Activity_Had a Phone Conversation', 'Last Notable Activity_Modified', 'Last Notable Activity_Olark Chat Conversation', 'Last Notable Activity_Page Visited on Website', 'Last Notable Activity_SMS Sent', 'Last Notable Activity_Unreachable', 'Lead Source_Others']\n",
            "RFE features type: <class 'pandas.core.indexes.base.Index'>\n",
            "Chi-square features type: <class 'list'>\n"
          ]
        }
      ]
    },
    {
      "cell_type": "code",
      "source": [
        "# Use RFE selected features\n",
        "final_features = list(selected_features_rfe)\n",
        "leads_df = leads_df[final_features + ['Converted']]  # Include target variable\n",
        "print(f\"Final features for modeling: {final_features}\")"
      ],
      "metadata": {
        "colab": {
          "base_uri": "https://localhost:8080/"
        },
        "id": "oA6AO-F7vgzm",
        "outputId": "9b680e07-f209-40a3-c3cb-35a190df07a2"
      },
      "execution_count": null,
      "outputs": [
        {
          "output_type": "stream",
          "name": "stdout",
          "text": [
            "Final features for modeling: ['Do Not Email', 'Total Time Spent on Website', 'Lead Origin_Lead Add Form', 'Lead Source_Welingak Website', 'What is your current occupation_Unemployed', 'What is your current occupation_Working Professional', 'Tags_Busy', 'Tags_Closed by Horizzon', 'Tags_Lost to EINS', 'Tags_Not doing further education', 'Tags_Ringing', 'Tags_Will revert after reading the email', 'Tags_invalid number', 'Tags_number not provided', 'Tags_switched off', 'Tags_wrong number given', 'Last Notable Activity_Had a Phone Conversation', 'Last Notable Activity_Modified', 'Last Notable Activity_Olark Chat Conversation', 'Last Notable Activity_SMS Sent']\n"
          ]
        }
      ]
    },
    {
      "cell_type": "code",
      "source": [
        "leads_df"
      ],
      "metadata": {
        "colab": {
          "base_uri": "https://localhost:8080/",
          "height": 513
        },
        "id": "-WbVN3VqNLli",
        "outputId": "05b5fd40-bec9-4be6-fee3-5c4cfb9649be"
      },
      "execution_count": null,
      "outputs": [
        {
          "output_type": "execute_result",
          "data": {
            "text/plain": [
              "      Do Not Email  Total Time Spent on Website  Lead Origin_Lead Add Form  \\\n",
              "0                0                    -0.889974                      False   \n",
              "1                0                     0.339972                      False   \n",
              "2                0                     1.905689                      False   \n",
              "3                0                    -0.333396                      False   \n",
              "4                0                     1.715905                      False   \n",
              "...            ...                          ...                        ...   \n",
              "9235             1                     2.476865                      False   \n",
              "9236             0                    -0.455661                      False   \n",
              "9237             1                    -0.526830                      False   \n",
              "9238             0                     0.020624                      False   \n",
              "9239             0                     1.444003                      False   \n",
              "\n",
              "      Lead Source_Welingak Website  \\\n",
              "0                            False   \n",
              "1                            False   \n",
              "2                            False   \n",
              "3                            False   \n",
              "4                            False   \n",
              "...                            ...   \n",
              "9235                         False   \n",
              "9236                         False   \n",
              "9237                         False   \n",
              "9238                         False   \n",
              "9239                         False   \n",
              "\n",
              "      What is your current occupation_Unemployed  \\\n",
              "0                                           True   \n",
              "1                                           True   \n",
              "2                                          False   \n",
              "3                                           True   \n",
              "4                                           True   \n",
              "...                                          ...   \n",
              "9235                                        True   \n",
              "9236                                        True   \n",
              "9237                                        True   \n",
              "9238                                        True   \n",
              "9239                                        True   \n",
              "\n",
              "      What is your current occupation_Working Professional  Tags_Busy  \\\n",
              "0                                                 False         False   \n",
              "1                                                 False         False   \n",
              "2                                                 False         False   \n",
              "3                                                 False         False   \n",
              "4                                                 False         False   \n",
              "...                                                 ...           ...   \n",
              "9235                                              False         False   \n",
              "9236                                              False         False   \n",
              "9237                                              False         False   \n",
              "9238                                              False         False   \n",
              "9239                                              False         False   \n",
              "\n",
              "      Tags_Closed by Horizzon  Tags_Lost to EINS  \\\n",
              "0                       False              False   \n",
              "1                       False              False   \n",
              "2                       False              False   \n",
              "3                       False              False   \n",
              "4                       False              False   \n",
              "...                       ...                ...   \n",
              "9235                    False              False   \n",
              "9236                    False              False   \n",
              "9237                    False              False   \n",
              "9238                    False              False   \n",
              "9239                    False              False   \n",
              "\n",
              "      Tags_Not doing further education  ...  \\\n",
              "0                                False  ...   \n",
              "1                                False  ...   \n",
              "2                                False  ...   \n",
              "3                                False  ...   \n",
              "4                                False  ...   \n",
              "...                                ...  ...   \n",
              "9235                             False  ...   \n",
              "9236                             False  ...   \n",
              "9237                             False  ...   \n",
              "9238                             False  ...   \n",
              "9239                             False  ...   \n",
              "\n",
              "      Tags_Will revert after reading the email  Tags_invalid number  \\\n",
              "0                                        False                False   \n",
              "1                                        False                False   \n",
              "2                                         True                False   \n",
              "3                                        False                False   \n",
              "4                                         True                False   \n",
              "...                                        ...                  ...   \n",
              "9235                                      True                False   \n",
              "9236                                     False                False   \n",
              "9237                                     False                 True   \n",
              "9238                                      True                False   \n",
              "9239                                      True                False   \n",
              "\n",
              "      Tags_number not provided  Tags_switched off  Tags_wrong number given  \\\n",
              "0                        False              False                    False   \n",
              "1                        False              False                    False   \n",
              "2                        False              False                    False   \n",
              "3                        False              False                    False   \n",
              "4                        False              False                    False   \n",
              "...                        ...                ...                      ...   \n",
              "9235                     False              False                    False   \n",
              "9236                     False              False                     True   \n",
              "9237                     False              False                    False   \n",
              "9238                     False              False                    False   \n",
              "9239                     False              False                    False   \n",
              "\n",
              "      Last Notable Activity_Had a Phone Conversation  \\\n",
              "0                                              False   \n",
              "1                                              False   \n",
              "2                                              False   \n",
              "3                                              False   \n",
              "4                                              False   \n",
              "...                                              ...   \n",
              "9235                                           False   \n",
              "9236                                           False   \n",
              "9237                                           False   \n",
              "9238                                           False   \n",
              "9239                                           False   \n",
              "\n",
              "      Last Notable Activity_Modified  \\\n",
              "0                               True   \n",
              "1                              False   \n",
              "2                              False   \n",
              "3                               True   \n",
              "4                               True   \n",
              "...                              ...   \n",
              "9235                           False   \n",
              "9236                           False   \n",
              "9237                           False   \n",
              "9238                           False   \n",
              "9239                            True   \n",
              "\n",
              "      Last Notable Activity_Olark Chat Conversation  \\\n",
              "0                                             False   \n",
              "1                                             False   \n",
              "2                                             False   \n",
              "3                                             False   \n",
              "4                                             False   \n",
              "...                                             ...   \n",
              "9235                                          False   \n",
              "9236                                          False   \n",
              "9237                                          False   \n",
              "9238                                          False   \n",
              "9239                                          False   \n",
              "\n",
              "      Last Notable Activity_SMS Sent  Converted  \n",
              "0                              False          0  \n",
              "1                              False          0  \n",
              "2                              False          1  \n",
              "3                              False          0  \n",
              "4                              False          1  \n",
              "...                              ...        ...  \n",
              "9235                           False          1  \n",
              "9236                            True          0  \n",
              "9237                            True          0  \n",
              "9238                            True          1  \n",
              "9239                           False          1  \n",
              "\n",
              "[9240 rows x 21 columns]"
            ],
            "text/html": [
              "\n",
              "  <div id=\"df-648386c5-8f75-4fc9-a46a-c195b157774a\" class=\"colab-df-container\">\n",
              "    <div>\n",
              "<style scoped>\n",
              "    .dataframe tbody tr th:only-of-type {\n",
              "        vertical-align: middle;\n",
              "    }\n",
              "\n",
              "    .dataframe tbody tr th {\n",
              "        vertical-align: top;\n",
              "    }\n",
              "\n",
              "    .dataframe thead th {\n",
              "        text-align: right;\n",
              "    }\n",
              "</style>\n",
              "<table border=\"1\" class=\"dataframe\">\n",
              "  <thead>\n",
              "    <tr style=\"text-align: right;\">\n",
              "      <th></th>\n",
              "      <th>Do Not Email</th>\n",
              "      <th>Total Time Spent on Website</th>\n",
              "      <th>Lead Origin_Lead Add Form</th>\n",
              "      <th>Lead Source_Welingak Website</th>\n",
              "      <th>What is your current occupation_Unemployed</th>\n",
              "      <th>What is your current occupation_Working Professional</th>\n",
              "      <th>Tags_Busy</th>\n",
              "      <th>Tags_Closed by Horizzon</th>\n",
              "      <th>Tags_Lost to EINS</th>\n",
              "      <th>Tags_Not doing further education</th>\n",
              "      <th>...</th>\n",
              "      <th>Tags_Will revert after reading the email</th>\n",
              "      <th>Tags_invalid number</th>\n",
              "      <th>Tags_number not provided</th>\n",
              "      <th>Tags_switched off</th>\n",
              "      <th>Tags_wrong number given</th>\n",
              "      <th>Last Notable Activity_Had a Phone Conversation</th>\n",
              "      <th>Last Notable Activity_Modified</th>\n",
              "      <th>Last Notable Activity_Olark Chat Conversation</th>\n",
              "      <th>Last Notable Activity_SMS Sent</th>\n",
              "      <th>Converted</th>\n",
              "    </tr>\n",
              "  </thead>\n",
              "  <tbody>\n",
              "    <tr>\n",
              "      <th>0</th>\n",
              "      <td>0</td>\n",
              "      <td>-0.889974</td>\n",
              "      <td>False</td>\n",
              "      <td>False</td>\n",
              "      <td>True</td>\n",
              "      <td>False</td>\n",
              "      <td>False</td>\n",
              "      <td>False</td>\n",
              "      <td>False</td>\n",
              "      <td>False</td>\n",
              "      <td>...</td>\n",
              "      <td>False</td>\n",
              "      <td>False</td>\n",
              "      <td>False</td>\n",
              "      <td>False</td>\n",
              "      <td>False</td>\n",
              "      <td>False</td>\n",
              "      <td>True</td>\n",
              "      <td>False</td>\n",
              "      <td>False</td>\n",
              "      <td>0</td>\n",
              "    </tr>\n",
              "    <tr>\n",
              "      <th>1</th>\n",
              "      <td>0</td>\n",
              "      <td>0.339972</td>\n",
              "      <td>False</td>\n",
              "      <td>False</td>\n",
              "      <td>True</td>\n",
              "      <td>False</td>\n",
              "      <td>False</td>\n",
              "      <td>False</td>\n",
              "      <td>False</td>\n",
              "      <td>False</td>\n",
              "      <td>...</td>\n",
              "      <td>False</td>\n",
              "      <td>False</td>\n",
              "      <td>False</td>\n",
              "      <td>False</td>\n",
              "      <td>False</td>\n",
              "      <td>False</td>\n",
              "      <td>False</td>\n",
              "      <td>False</td>\n",
              "      <td>False</td>\n",
              "      <td>0</td>\n",
              "    </tr>\n",
              "    <tr>\n",
              "      <th>2</th>\n",
              "      <td>0</td>\n",
              "      <td>1.905689</td>\n",
              "      <td>False</td>\n",
              "      <td>False</td>\n",
              "      <td>False</td>\n",
              "      <td>False</td>\n",
              "      <td>False</td>\n",
              "      <td>False</td>\n",
              "      <td>False</td>\n",
              "      <td>False</td>\n",
              "      <td>...</td>\n",
              "      <td>True</td>\n",
              "      <td>False</td>\n",
              "      <td>False</td>\n",
              "      <td>False</td>\n",
              "      <td>False</td>\n",
              "      <td>False</td>\n",
              "      <td>False</td>\n",
              "      <td>False</td>\n",
              "      <td>False</td>\n",
              "      <td>1</td>\n",
              "    </tr>\n",
              "    <tr>\n",
              "      <th>3</th>\n",
              "      <td>0</td>\n",
              "      <td>-0.333396</td>\n",
              "      <td>False</td>\n",
              "      <td>False</td>\n",
              "      <td>True</td>\n",
              "      <td>False</td>\n",
              "      <td>False</td>\n",
              "      <td>False</td>\n",
              "      <td>False</td>\n",
              "      <td>False</td>\n",
              "      <td>...</td>\n",
              "      <td>False</td>\n",
              "      <td>False</td>\n",
              "      <td>False</td>\n",
              "      <td>False</td>\n",
              "      <td>False</td>\n",
              "      <td>False</td>\n",
              "      <td>True</td>\n",
              "      <td>False</td>\n",
              "      <td>False</td>\n",
              "      <td>0</td>\n",
              "    </tr>\n",
              "    <tr>\n",
              "      <th>4</th>\n",
              "      <td>0</td>\n",
              "      <td>1.715905</td>\n",
              "      <td>False</td>\n",
              "      <td>False</td>\n",
              "      <td>True</td>\n",
              "      <td>False</td>\n",
              "      <td>False</td>\n",
              "      <td>False</td>\n",
              "      <td>False</td>\n",
              "      <td>False</td>\n",
              "      <td>...</td>\n",
              "      <td>True</td>\n",
              "      <td>False</td>\n",
              "      <td>False</td>\n",
              "      <td>False</td>\n",
              "      <td>False</td>\n",
              "      <td>False</td>\n",
              "      <td>True</td>\n",
              "      <td>False</td>\n",
              "      <td>False</td>\n",
              "      <td>1</td>\n",
              "    </tr>\n",
              "    <tr>\n",
              "      <th>...</th>\n",
              "      <td>...</td>\n",
              "      <td>...</td>\n",
              "      <td>...</td>\n",
              "      <td>...</td>\n",
              "      <td>...</td>\n",
              "      <td>...</td>\n",
              "      <td>...</td>\n",
              "      <td>...</td>\n",
              "      <td>...</td>\n",
              "      <td>...</td>\n",
              "      <td>...</td>\n",
              "      <td>...</td>\n",
              "      <td>...</td>\n",
              "      <td>...</td>\n",
              "      <td>...</td>\n",
              "      <td>...</td>\n",
              "      <td>...</td>\n",
              "      <td>...</td>\n",
              "      <td>...</td>\n",
              "      <td>...</td>\n",
              "      <td>...</td>\n",
              "    </tr>\n",
              "    <tr>\n",
              "      <th>9235</th>\n",
              "      <td>1</td>\n",
              "      <td>2.476865</td>\n",
              "      <td>False</td>\n",
              "      <td>False</td>\n",
              "      <td>True</td>\n",
              "      <td>False</td>\n",
              "      <td>False</td>\n",
              "      <td>False</td>\n",
              "      <td>False</td>\n",
              "      <td>False</td>\n",
              "      <td>...</td>\n",
              "      <td>True</td>\n",
              "      <td>False</td>\n",
              "      <td>False</td>\n",
              "      <td>False</td>\n",
              "      <td>False</td>\n",
              "      <td>False</td>\n",
              "      <td>False</td>\n",
              "      <td>False</td>\n",
              "      <td>False</td>\n",
              "      <td>1</td>\n",
              "    </tr>\n",
              "    <tr>\n",
              "      <th>9236</th>\n",
              "      <td>0</td>\n",
              "      <td>-0.455661</td>\n",
              "      <td>False</td>\n",
              "      <td>False</td>\n",
              "      <td>True</td>\n",
              "      <td>False</td>\n",
              "      <td>False</td>\n",
              "      <td>False</td>\n",
              "      <td>False</td>\n",
              "      <td>False</td>\n",
              "      <td>...</td>\n",
              "      <td>False</td>\n",
              "      <td>False</td>\n",
              "      <td>False</td>\n",
              "      <td>False</td>\n",
              "      <td>True</td>\n",
              "      <td>False</td>\n",
              "      <td>False</td>\n",
              "      <td>False</td>\n",
              "      <td>True</td>\n",
              "      <td>0</td>\n",
              "    </tr>\n",
              "    <tr>\n",
              "      <th>9237</th>\n",
              "      <td>1</td>\n",
              "      <td>-0.526830</td>\n",
              "      <td>False</td>\n",
              "      <td>False</td>\n",
              "      <td>True</td>\n",
              "      <td>False</td>\n",
              "      <td>False</td>\n",
              "      <td>False</td>\n",
              "      <td>False</td>\n",
              "      <td>False</td>\n",
              "      <td>...</td>\n",
              "      <td>False</td>\n",
              "      <td>True</td>\n",
              "      <td>False</td>\n",
              "      <td>False</td>\n",
              "      <td>False</td>\n",
              "      <td>False</td>\n",
              "      <td>False</td>\n",
              "      <td>False</td>\n",
              "      <td>True</td>\n",
              "      <td>0</td>\n",
              "    </tr>\n",
              "    <tr>\n",
              "      <th>9238</th>\n",
              "      <td>0</td>\n",
              "      <td>0.020624</td>\n",
              "      <td>False</td>\n",
              "      <td>False</td>\n",
              "      <td>True</td>\n",
              "      <td>False</td>\n",
              "      <td>False</td>\n",
              "      <td>False</td>\n",
              "      <td>False</td>\n",
              "      <td>False</td>\n",
              "      <td>...</td>\n",
              "      <td>True</td>\n",
              "      <td>False</td>\n",
              "      <td>False</td>\n",
              "      <td>False</td>\n",
              "      <td>False</td>\n",
              "      <td>False</td>\n",
              "      <td>False</td>\n",
              "      <td>False</td>\n",
              "      <td>True</td>\n",
              "      <td>1</td>\n",
              "    </tr>\n",
              "    <tr>\n",
              "      <th>9239</th>\n",
              "      <td>0</td>\n",
              "      <td>1.444003</td>\n",
              "      <td>False</td>\n",
              "      <td>False</td>\n",
              "      <td>True</td>\n",
              "      <td>False</td>\n",
              "      <td>False</td>\n",
              "      <td>False</td>\n",
              "      <td>False</td>\n",
              "      <td>False</td>\n",
              "      <td>...</td>\n",
              "      <td>True</td>\n",
              "      <td>False</td>\n",
              "      <td>False</td>\n",
              "      <td>False</td>\n",
              "      <td>False</td>\n",
              "      <td>False</td>\n",
              "      <td>True</td>\n",
              "      <td>False</td>\n",
              "      <td>False</td>\n",
              "      <td>1</td>\n",
              "    </tr>\n",
              "  </tbody>\n",
              "</table>\n",
              "<p>9240 rows × 21 columns</p>\n",
              "</div>\n",
              "    <div class=\"colab-df-buttons\">\n",
              "\n",
              "  <div class=\"colab-df-container\">\n",
              "    <button class=\"colab-df-convert\" onclick=\"convertToInteractive('df-648386c5-8f75-4fc9-a46a-c195b157774a')\"\n",
              "            title=\"Convert this dataframe to an interactive table.\"\n",
              "            style=\"display:none;\">\n",
              "\n",
              "  <svg xmlns=\"http://www.w3.org/2000/svg\" height=\"24px\" viewBox=\"0 -960 960 960\">\n",
              "    <path d=\"M120-120v-720h720v720H120Zm60-500h600v-160H180v160Zm220 220h160v-160H400v160Zm0 220h160v-160H400v160ZM180-400h160v-160H180v160Zm440 0h160v-160H620v160ZM180-180h160v-160H180v160Zm440 0h160v-160H620v160Z\"/>\n",
              "  </svg>\n",
              "    </button>\n",
              "\n",
              "  <style>\n",
              "    .colab-df-container {\n",
              "      display:flex;\n",
              "      gap: 12px;\n",
              "    }\n",
              "\n",
              "    .colab-df-convert {\n",
              "      background-color: #E8F0FE;\n",
              "      border: none;\n",
              "      border-radius: 50%;\n",
              "      cursor: pointer;\n",
              "      display: none;\n",
              "      fill: #1967D2;\n",
              "      height: 32px;\n",
              "      padding: 0 0 0 0;\n",
              "      width: 32px;\n",
              "    }\n",
              "\n",
              "    .colab-df-convert:hover {\n",
              "      background-color: #E2EBFA;\n",
              "      box-shadow: 0px 1px 2px rgba(60, 64, 67, 0.3), 0px 1px 3px 1px rgba(60, 64, 67, 0.15);\n",
              "      fill: #174EA6;\n",
              "    }\n",
              "\n",
              "    .colab-df-buttons div {\n",
              "      margin-bottom: 4px;\n",
              "    }\n",
              "\n",
              "    [theme=dark] .colab-df-convert {\n",
              "      background-color: #3B4455;\n",
              "      fill: #D2E3FC;\n",
              "    }\n",
              "\n",
              "    [theme=dark] .colab-df-convert:hover {\n",
              "      background-color: #434B5C;\n",
              "      box-shadow: 0px 1px 3px 1px rgba(0, 0, 0, 0.15);\n",
              "      filter: drop-shadow(0px 1px 2px rgba(0, 0, 0, 0.3));\n",
              "      fill: #FFFFFF;\n",
              "    }\n",
              "  </style>\n",
              "\n",
              "    <script>\n",
              "      const buttonEl =\n",
              "        document.querySelector('#df-648386c5-8f75-4fc9-a46a-c195b157774a button.colab-df-convert');\n",
              "      buttonEl.style.display =\n",
              "        google.colab.kernel.accessAllowed ? 'block' : 'none';\n",
              "\n",
              "      async function convertToInteractive(key) {\n",
              "        const element = document.querySelector('#df-648386c5-8f75-4fc9-a46a-c195b157774a');\n",
              "        const dataTable =\n",
              "          await google.colab.kernel.invokeFunction('convertToInteractive',\n",
              "                                                    [key], {});\n",
              "        if (!dataTable) return;\n",
              "\n",
              "        const docLinkHtml = 'Like what you see? Visit the ' +\n",
              "          '<a target=\"_blank\" href=https://colab.research.google.com/notebooks/data_table.ipynb>data table notebook</a>'\n",
              "          + ' to learn more about interactive tables.';\n",
              "        element.innerHTML = '';\n",
              "        dataTable['output_type'] = 'display_data';\n",
              "        await google.colab.output.renderOutput(dataTable, element);\n",
              "        const docLink = document.createElement('div');\n",
              "        docLink.innerHTML = docLinkHtml;\n",
              "        element.appendChild(docLink);\n",
              "      }\n",
              "    </script>\n",
              "  </div>\n",
              "\n",
              "\n",
              "<div id=\"df-674d2212-9040-49e0-89d8-ba7074cea3b9\">\n",
              "  <button class=\"colab-df-quickchart\" onclick=\"quickchart('df-674d2212-9040-49e0-89d8-ba7074cea3b9')\"\n",
              "            title=\"Suggest charts\"\n",
              "            style=\"display:none;\">\n",
              "\n",
              "<svg xmlns=\"http://www.w3.org/2000/svg\" height=\"24px\"viewBox=\"0 0 24 24\"\n",
              "     width=\"24px\">\n",
              "    <g>\n",
              "        <path d=\"M19 3H5c-1.1 0-2 .9-2 2v14c0 1.1.9 2 2 2h14c1.1 0 2-.9 2-2V5c0-1.1-.9-2-2-2zM9 17H7v-7h2v7zm4 0h-2V7h2v10zm4 0h-2v-4h2v4z\"/>\n",
              "    </g>\n",
              "</svg>\n",
              "  </button>\n",
              "\n",
              "<style>\n",
              "  .colab-df-quickchart {\n",
              "      --bg-color: #E8F0FE;\n",
              "      --fill-color: #1967D2;\n",
              "      --hover-bg-color: #E2EBFA;\n",
              "      --hover-fill-color: #174EA6;\n",
              "      --disabled-fill-color: #AAA;\n",
              "      --disabled-bg-color: #DDD;\n",
              "  }\n",
              "\n",
              "  [theme=dark] .colab-df-quickchart {\n",
              "      --bg-color: #3B4455;\n",
              "      --fill-color: #D2E3FC;\n",
              "      --hover-bg-color: #434B5C;\n",
              "      --hover-fill-color: #FFFFFF;\n",
              "      --disabled-bg-color: #3B4455;\n",
              "      --disabled-fill-color: #666;\n",
              "  }\n",
              "\n",
              "  .colab-df-quickchart {\n",
              "    background-color: var(--bg-color);\n",
              "    border: none;\n",
              "    border-radius: 50%;\n",
              "    cursor: pointer;\n",
              "    display: none;\n",
              "    fill: var(--fill-color);\n",
              "    height: 32px;\n",
              "    padding: 0;\n",
              "    width: 32px;\n",
              "  }\n",
              "\n",
              "  .colab-df-quickchart:hover {\n",
              "    background-color: var(--hover-bg-color);\n",
              "    box-shadow: 0 1px 2px rgba(60, 64, 67, 0.3), 0 1px 3px 1px rgba(60, 64, 67, 0.15);\n",
              "    fill: var(--button-hover-fill-color);\n",
              "  }\n",
              "\n",
              "  .colab-df-quickchart-complete:disabled,\n",
              "  .colab-df-quickchart-complete:disabled:hover {\n",
              "    background-color: var(--disabled-bg-color);\n",
              "    fill: var(--disabled-fill-color);\n",
              "    box-shadow: none;\n",
              "  }\n",
              "\n",
              "  .colab-df-spinner {\n",
              "    border: 2px solid var(--fill-color);\n",
              "    border-color: transparent;\n",
              "    border-bottom-color: var(--fill-color);\n",
              "    animation:\n",
              "      spin 1s steps(1) infinite;\n",
              "  }\n",
              "\n",
              "  @keyframes spin {\n",
              "    0% {\n",
              "      border-color: transparent;\n",
              "      border-bottom-color: var(--fill-color);\n",
              "      border-left-color: var(--fill-color);\n",
              "    }\n",
              "    20% {\n",
              "      border-color: transparent;\n",
              "      border-left-color: var(--fill-color);\n",
              "      border-top-color: var(--fill-color);\n",
              "    }\n",
              "    30% {\n",
              "      border-color: transparent;\n",
              "      border-left-color: var(--fill-color);\n",
              "      border-top-color: var(--fill-color);\n",
              "      border-right-color: var(--fill-color);\n",
              "    }\n",
              "    40% {\n",
              "      border-color: transparent;\n",
              "      border-right-color: var(--fill-color);\n",
              "      border-top-color: var(--fill-color);\n",
              "    }\n",
              "    60% {\n",
              "      border-color: transparent;\n",
              "      border-right-color: var(--fill-color);\n",
              "    }\n",
              "    80% {\n",
              "      border-color: transparent;\n",
              "      border-right-color: var(--fill-color);\n",
              "      border-bottom-color: var(--fill-color);\n",
              "    }\n",
              "    90% {\n",
              "      border-color: transparent;\n",
              "      border-bottom-color: var(--fill-color);\n",
              "    }\n",
              "  }\n",
              "</style>\n",
              "\n",
              "  <script>\n",
              "    async function quickchart(key) {\n",
              "      const quickchartButtonEl =\n",
              "        document.querySelector('#' + key + ' button');\n",
              "      quickchartButtonEl.disabled = true;  // To prevent multiple clicks.\n",
              "      quickchartButtonEl.classList.add('colab-df-spinner');\n",
              "      try {\n",
              "        const charts = await google.colab.kernel.invokeFunction(\n",
              "            'suggestCharts', [key], {});\n",
              "      } catch (error) {\n",
              "        console.error('Error during call to suggestCharts:', error);\n",
              "      }\n",
              "      quickchartButtonEl.classList.remove('colab-df-spinner');\n",
              "      quickchartButtonEl.classList.add('colab-df-quickchart-complete');\n",
              "    }\n",
              "    (() => {\n",
              "      let quickchartButtonEl =\n",
              "        document.querySelector('#df-674d2212-9040-49e0-89d8-ba7074cea3b9 button');\n",
              "      quickchartButtonEl.style.display =\n",
              "        google.colab.kernel.accessAllowed ? 'block' : 'none';\n",
              "    })();\n",
              "  </script>\n",
              "</div>\n",
              "\n",
              "  <div id=\"id_cad9b405-a1ef-4942-ae57-15eb2c626b2c\">\n",
              "    <style>\n",
              "      .colab-df-generate {\n",
              "        background-color: #E8F0FE;\n",
              "        border: none;\n",
              "        border-radius: 50%;\n",
              "        cursor: pointer;\n",
              "        display: none;\n",
              "        fill: #1967D2;\n",
              "        height: 32px;\n",
              "        padding: 0 0 0 0;\n",
              "        width: 32px;\n",
              "      }\n",
              "\n",
              "      .colab-df-generate:hover {\n",
              "        background-color: #E2EBFA;\n",
              "        box-shadow: 0px 1px 2px rgba(60, 64, 67, 0.3), 0px 1px 3px 1px rgba(60, 64, 67, 0.15);\n",
              "        fill: #174EA6;\n",
              "      }\n",
              "\n",
              "      [theme=dark] .colab-df-generate {\n",
              "        background-color: #3B4455;\n",
              "        fill: #D2E3FC;\n",
              "      }\n",
              "\n",
              "      [theme=dark] .colab-df-generate:hover {\n",
              "        background-color: #434B5C;\n",
              "        box-shadow: 0px 1px 3px 1px rgba(0, 0, 0, 0.15);\n",
              "        filter: drop-shadow(0px 1px 2px rgba(0, 0, 0, 0.3));\n",
              "        fill: #FFFFFF;\n",
              "      }\n",
              "    </style>\n",
              "    <button class=\"colab-df-generate\" onclick=\"generateWithVariable('leads_df')\"\n",
              "            title=\"Generate code using this dataframe.\"\n",
              "            style=\"display:none;\">\n",
              "\n",
              "  <svg xmlns=\"http://www.w3.org/2000/svg\" height=\"24px\"viewBox=\"0 0 24 24\"\n",
              "       width=\"24px\">\n",
              "    <path d=\"M7,19H8.4L18.45,9,17,7.55,7,17.6ZM5,21V16.75L18.45,3.32a2,2,0,0,1,2.83,0l1.4,1.43a1.91,1.91,0,0,1,.58,1.4,1.91,1.91,0,0,1-.58,1.4L9.25,21ZM18.45,9,17,7.55Zm-12,3A5.31,5.31,0,0,0,4.9,8.1,5.31,5.31,0,0,0,1,6.5,5.31,5.31,0,0,0,4.9,4.9,5.31,5.31,0,0,0,6.5,1,5.31,5.31,0,0,0,8.1,4.9,5.31,5.31,0,0,0,12,6.5,5.46,5.46,0,0,0,6.5,12Z\"/>\n",
              "  </svg>\n",
              "    </button>\n",
              "    <script>\n",
              "      (() => {\n",
              "      const buttonEl =\n",
              "        document.querySelector('#id_cad9b405-a1ef-4942-ae57-15eb2c626b2c button.colab-df-generate');\n",
              "      buttonEl.style.display =\n",
              "        google.colab.kernel.accessAllowed ? 'block' : 'none';\n",
              "\n",
              "      buttonEl.onclick = () => {\n",
              "        google.colab.notebook.generateWithVariable('leads_df');\n",
              "      }\n",
              "      })();\n",
              "    </script>\n",
              "  </div>\n",
              "\n",
              "    </div>\n",
              "  </div>\n"
            ],
            "application/vnd.google.colaboratory.intrinsic+json": {
              "type": "dataframe",
              "variable_name": "leads_df"
            }
          },
          "metadata": {},
          "execution_count": 26
        }
      ]
    },
    {
      "cell_type": "code",
      "source": [
        "from statsmodels.stats.outliers_influence import variance_inflation_factor\n"
      ],
      "metadata": {
        "id": "54ZkIQJ65O7X"
      },
      "execution_count": null,
      "outputs": []
    },
    {
      "cell_type": "code",
      "source": [
        "\n",
        "numeric_features = leads_df[final_features].select_dtypes(include=['int64', 'float64']).columns\n",
        "\n",
        "\n",
        "vif_data = pd.DataFrame()\n",
        "vif_data[\"Feature\"] = numeric_features\n",
        "vif_data[\"VIF\"] = [variance_inflation_factor(leads_df[numeric_features].values, i)\n",
        "                   for i in range(len(numeric_features))]\n",
        "\n",
        "print(vif_data.sort_values(\"VIF\", ascending=False))"
      ],
      "metadata": {
        "colab": {
          "base_uri": "https://localhost:8080/"
        },
        "id": "WBStPmYR5o_5",
        "outputId": "1ac528a1-ab08-4775-f9a4-0f5702ef4cbf"
      },
      "execution_count": null,
      "outputs": [
        {
          "output_type": "stream",
          "name": "stdout",
          "text": [
            "                       Feature       VIF\n",
            "1  Total Time Spent on Website  1.001984\n",
            "0                 Do Not Email  1.001984\n"
          ]
        }
      ]
    },
    {
      "cell_type": "code",
      "source": [
        "# Drop features with high multicollinearity\n",
        "while True:\n",
        "    vif_data = pd.DataFrame()\n",
        "    vif_data[\"Feature\"] = numeric_features\n",
        "    vif_data[\"VIF\"] = [variance_inflation_factor(leads_df[numeric_features].values, i)\n",
        "                       for i in range(len(numeric_features))]\n",
        "\n",
        "    # Find the max VIF\n",
        "    max_vif = vif_data[\"VIF\"].max()\n",
        "\n",
        "\n",
        "    if max_vif <= 5:\n",
        "        break\n",
        "\n",
        "    # Remove the feature with the highest VIF\n",
        "    feature_to_remove = vif_data.loc[vif_data[\"VIF\"].idxmax(), \"Feature\"]\n",
        "    numeric_features = numeric_features.drop(feature_to_remove)\n",
        "\n",
        "print(\"Remaining features after VIF reduction:\")\n",
        "print(numeric_features)"
      ],
      "metadata": {
        "colab": {
          "base_uri": "https://localhost:8080/"
        },
        "id": "Wc_x2NTs6Cqh",
        "outputId": "87738622-d7f7-4df3-f679-ad5aeea01ff8"
      },
      "execution_count": null,
      "outputs": [
        {
          "output_type": "stream",
          "name": "stdout",
          "text": [
            "Remaining features after VIF reduction:\n",
            "Index(['Do Not Email', 'Total Time Spent on Website'], dtype='object')\n"
          ]
        }
      ]
    },
    {
      "cell_type": "markdown",
      "source": [
        "because no values with high VIF value was there none were dropped\n",
        "\n"
      ],
      "metadata": {
        "id": "JWywIwEO8x-M"
      }
    },
    {
      "cell_type": "code",
      "source": [
        "def combine_sparse_categories(leads_df, threshold=0.05):\n",
        "    sparse_columns = []\n",
        "\n",
        "    # Find dummy variable columns\n",
        "    dummy_columns = leads_df.columns[leads_df.columns.str.contains('_')]\n",
        "\n",
        "    # Get unique prefixes\n",
        "    prefixes = set(col.split('_')[0] for col in dummy_columns)\n",
        "\n",
        "    for col_prefix in prefixes:\n",
        "        # Get all columns for this category\n",
        "        category_cols = [col for col in dummy_columns if col.startswith(f\"{col_prefix}_\")]\n",
        "\n",
        "        # Calculate sparsity\n",
        "        sparsity_series = leads_df[category_cols].sum()\n",
        "        total_sparse = sparsity_series[sparsity_series < threshold * len(leads_df)]\n",
        "\n",
        "        # If multiple sparse columns exist\n",
        "        if len(total_sparse) > 1:\n",
        "\n",
        "            sparse_category_cols = total_sparse.index.tolist()\n",
        "\n",
        "            #\n",
        "            leads_df[f'{col_prefix}_Other'] = leads_df[sparse_category_cols].any(axis=1).astype(int)\n",
        "\n",
        "\n",
        "            leads_df = leads_df.drop(columns=sparse_category_cols)\n",
        "\n",
        "            sparse_columns.extend(sparse_category_cols)\n",
        "\n",
        "    return leads_df, sparse_columns\n",
        "\n",
        "\n",
        "leads_df, combined_sparse_columns = combine_sparse_categories(leads_df)\n",
        "\n",
        "print(\"Combined sparse columns:\", combined_sparse_columns)"
      ],
      "metadata": {
        "colab": {
          "base_uri": "https://localhost:8080/"
        },
        "id": "01D-sbwQ6TGN",
        "outputId": "b28082c3-413f-45bf-b950-2c31eb28a85c"
      },
      "execution_count": null,
      "outputs": [
        {
          "output_type": "stream",
          "name": "stdout",
          "text": [
            "Combined sparse columns: ['Tags_Busy', 'Tags_Closed by Horizzon', 'Tags_Lost to EINS', 'Tags_Not doing further education', 'Tags_invalid number', 'Tags_number not provided', 'Tags_switched off', 'Tags_wrong number given', 'Last Notable Activity_Had a Phone Conversation', 'Last Notable Activity_Olark Chat Conversation']\n"
          ]
        }
      ]
    },
    {
      "cell_type": "code",
      "source": [
        "leads_df"
      ],
      "metadata": {
        "colab": {
          "base_uri": "https://localhost:8080/",
          "height": 513
        },
        "id": "YhPYpGC4H3_7",
        "outputId": "549ffd5e-55c9-4a57-aa2f-a3dc44246a28"
      },
      "execution_count": null,
      "outputs": [
        {
          "output_type": "execute_result",
          "data": {
            "text/plain": [
              "      Do Not Email  Total Time Spent on Website  Lead Origin_Lead Add Form  \\\n",
              "0                0                    -0.889974                      False   \n",
              "1                0                     0.339972                      False   \n",
              "2                0                     1.905689                      False   \n",
              "3                0                    -0.333396                      False   \n",
              "4                0                     1.715905                      False   \n",
              "...            ...                          ...                        ...   \n",
              "9235             1                     2.476865                      False   \n",
              "9236             0                    -0.455661                      False   \n",
              "9237             1                    -0.526830                      False   \n",
              "9238             0                     0.020624                      False   \n",
              "9239             0                     1.444003                      False   \n",
              "\n",
              "      Lead Source_Welingak Website  \\\n",
              "0                            False   \n",
              "1                            False   \n",
              "2                            False   \n",
              "3                            False   \n",
              "4                            False   \n",
              "...                            ...   \n",
              "9235                         False   \n",
              "9236                         False   \n",
              "9237                         False   \n",
              "9238                         False   \n",
              "9239                         False   \n",
              "\n",
              "      What is your current occupation_Unemployed  \\\n",
              "0                                           True   \n",
              "1                                           True   \n",
              "2                                          False   \n",
              "3                                           True   \n",
              "4                                           True   \n",
              "...                                          ...   \n",
              "9235                                        True   \n",
              "9236                                        True   \n",
              "9237                                        True   \n",
              "9238                                        True   \n",
              "9239                                        True   \n",
              "\n",
              "      What is your current occupation_Working Professional  Tags_Ringing  \\\n",
              "0                                                 False            False   \n",
              "1                                                 False             True   \n",
              "2                                                 False            False   \n",
              "3                                                 False             True   \n",
              "4                                                 False            False   \n",
              "...                                                 ...              ...   \n",
              "9235                                              False            False   \n",
              "9236                                              False            False   \n",
              "9237                                              False            False   \n",
              "9238                                              False            False   \n",
              "9239                                              False            False   \n",
              "\n",
              "      Tags_Will revert after reading the email  \\\n",
              "0                                        False   \n",
              "1                                        False   \n",
              "2                                         True   \n",
              "3                                        False   \n",
              "4                                         True   \n",
              "...                                        ...   \n",
              "9235                                      True   \n",
              "9236                                     False   \n",
              "9237                                     False   \n",
              "9238                                      True   \n",
              "9239                                      True   \n",
              "\n",
              "      Last Notable Activity_Modified  Last Notable Activity_SMS Sent  \\\n",
              "0                               True                           False   \n",
              "1                              False                           False   \n",
              "2                              False                           False   \n",
              "3                               True                           False   \n",
              "4                               True                           False   \n",
              "...                              ...                             ...   \n",
              "9235                           False                           False   \n",
              "9236                           False                            True   \n",
              "9237                           False                            True   \n",
              "9238                           False                            True   \n",
              "9239                            True                           False   \n",
              "\n",
              "      Converted  Tags_Other  Last Notable Activity_Other  \n",
              "0             0           0                            0  \n",
              "1             0           0                            0  \n",
              "2             1           0                            0  \n",
              "3             0           0                            0  \n",
              "4             1           0                            0  \n",
              "...         ...         ...                          ...  \n",
              "9235          1           0                            0  \n",
              "9236          0           1                            0  \n",
              "9237          0           1                            0  \n",
              "9238          1           0                            0  \n",
              "9239          1           0                            0  \n",
              "\n",
              "[9240 rows x 13 columns]"
            ],
            "text/html": [
              "\n",
              "  <div id=\"df-918a37b0-05d9-45b2-bddd-54d84246b075\" class=\"colab-df-container\">\n",
              "    <div>\n",
              "<style scoped>\n",
              "    .dataframe tbody tr th:only-of-type {\n",
              "        vertical-align: middle;\n",
              "    }\n",
              "\n",
              "    .dataframe tbody tr th {\n",
              "        vertical-align: top;\n",
              "    }\n",
              "\n",
              "    .dataframe thead th {\n",
              "        text-align: right;\n",
              "    }\n",
              "</style>\n",
              "<table border=\"1\" class=\"dataframe\">\n",
              "  <thead>\n",
              "    <tr style=\"text-align: right;\">\n",
              "      <th></th>\n",
              "      <th>Do Not Email</th>\n",
              "      <th>Total Time Spent on Website</th>\n",
              "      <th>Lead Origin_Lead Add Form</th>\n",
              "      <th>Lead Source_Welingak Website</th>\n",
              "      <th>What is your current occupation_Unemployed</th>\n",
              "      <th>What is your current occupation_Working Professional</th>\n",
              "      <th>Tags_Ringing</th>\n",
              "      <th>Tags_Will revert after reading the email</th>\n",
              "      <th>Last Notable Activity_Modified</th>\n",
              "      <th>Last Notable Activity_SMS Sent</th>\n",
              "      <th>Converted</th>\n",
              "      <th>Tags_Other</th>\n",
              "      <th>Last Notable Activity_Other</th>\n",
              "    </tr>\n",
              "  </thead>\n",
              "  <tbody>\n",
              "    <tr>\n",
              "      <th>0</th>\n",
              "      <td>0</td>\n",
              "      <td>-0.889974</td>\n",
              "      <td>False</td>\n",
              "      <td>False</td>\n",
              "      <td>True</td>\n",
              "      <td>False</td>\n",
              "      <td>False</td>\n",
              "      <td>False</td>\n",
              "      <td>True</td>\n",
              "      <td>False</td>\n",
              "      <td>0</td>\n",
              "      <td>0</td>\n",
              "      <td>0</td>\n",
              "    </tr>\n",
              "    <tr>\n",
              "      <th>1</th>\n",
              "      <td>0</td>\n",
              "      <td>0.339972</td>\n",
              "      <td>False</td>\n",
              "      <td>False</td>\n",
              "      <td>True</td>\n",
              "      <td>False</td>\n",
              "      <td>True</td>\n",
              "      <td>False</td>\n",
              "      <td>False</td>\n",
              "      <td>False</td>\n",
              "      <td>0</td>\n",
              "      <td>0</td>\n",
              "      <td>0</td>\n",
              "    </tr>\n",
              "    <tr>\n",
              "      <th>2</th>\n",
              "      <td>0</td>\n",
              "      <td>1.905689</td>\n",
              "      <td>False</td>\n",
              "      <td>False</td>\n",
              "      <td>False</td>\n",
              "      <td>False</td>\n",
              "      <td>False</td>\n",
              "      <td>True</td>\n",
              "      <td>False</td>\n",
              "      <td>False</td>\n",
              "      <td>1</td>\n",
              "      <td>0</td>\n",
              "      <td>0</td>\n",
              "    </tr>\n",
              "    <tr>\n",
              "      <th>3</th>\n",
              "      <td>0</td>\n",
              "      <td>-0.333396</td>\n",
              "      <td>False</td>\n",
              "      <td>False</td>\n",
              "      <td>True</td>\n",
              "      <td>False</td>\n",
              "      <td>True</td>\n",
              "      <td>False</td>\n",
              "      <td>True</td>\n",
              "      <td>False</td>\n",
              "      <td>0</td>\n",
              "      <td>0</td>\n",
              "      <td>0</td>\n",
              "    </tr>\n",
              "    <tr>\n",
              "      <th>4</th>\n",
              "      <td>0</td>\n",
              "      <td>1.715905</td>\n",
              "      <td>False</td>\n",
              "      <td>False</td>\n",
              "      <td>True</td>\n",
              "      <td>False</td>\n",
              "      <td>False</td>\n",
              "      <td>True</td>\n",
              "      <td>True</td>\n",
              "      <td>False</td>\n",
              "      <td>1</td>\n",
              "      <td>0</td>\n",
              "      <td>0</td>\n",
              "    </tr>\n",
              "    <tr>\n",
              "      <th>...</th>\n",
              "      <td>...</td>\n",
              "      <td>...</td>\n",
              "      <td>...</td>\n",
              "      <td>...</td>\n",
              "      <td>...</td>\n",
              "      <td>...</td>\n",
              "      <td>...</td>\n",
              "      <td>...</td>\n",
              "      <td>...</td>\n",
              "      <td>...</td>\n",
              "      <td>...</td>\n",
              "      <td>...</td>\n",
              "      <td>...</td>\n",
              "    </tr>\n",
              "    <tr>\n",
              "      <th>9235</th>\n",
              "      <td>1</td>\n",
              "      <td>2.476865</td>\n",
              "      <td>False</td>\n",
              "      <td>False</td>\n",
              "      <td>True</td>\n",
              "      <td>False</td>\n",
              "      <td>False</td>\n",
              "      <td>True</td>\n",
              "      <td>False</td>\n",
              "      <td>False</td>\n",
              "      <td>1</td>\n",
              "      <td>0</td>\n",
              "      <td>0</td>\n",
              "    </tr>\n",
              "    <tr>\n",
              "      <th>9236</th>\n",
              "      <td>0</td>\n",
              "      <td>-0.455661</td>\n",
              "      <td>False</td>\n",
              "      <td>False</td>\n",
              "      <td>True</td>\n",
              "      <td>False</td>\n",
              "      <td>False</td>\n",
              "      <td>False</td>\n",
              "      <td>False</td>\n",
              "      <td>True</td>\n",
              "      <td>0</td>\n",
              "      <td>1</td>\n",
              "      <td>0</td>\n",
              "    </tr>\n",
              "    <tr>\n",
              "      <th>9237</th>\n",
              "      <td>1</td>\n",
              "      <td>-0.526830</td>\n",
              "      <td>False</td>\n",
              "      <td>False</td>\n",
              "      <td>True</td>\n",
              "      <td>False</td>\n",
              "      <td>False</td>\n",
              "      <td>False</td>\n",
              "      <td>False</td>\n",
              "      <td>True</td>\n",
              "      <td>0</td>\n",
              "      <td>1</td>\n",
              "      <td>0</td>\n",
              "    </tr>\n",
              "    <tr>\n",
              "      <th>9238</th>\n",
              "      <td>0</td>\n",
              "      <td>0.020624</td>\n",
              "      <td>False</td>\n",
              "      <td>False</td>\n",
              "      <td>True</td>\n",
              "      <td>False</td>\n",
              "      <td>False</td>\n",
              "      <td>True</td>\n",
              "      <td>False</td>\n",
              "      <td>True</td>\n",
              "      <td>1</td>\n",
              "      <td>0</td>\n",
              "      <td>0</td>\n",
              "    </tr>\n",
              "    <tr>\n",
              "      <th>9239</th>\n",
              "      <td>0</td>\n",
              "      <td>1.444003</td>\n",
              "      <td>False</td>\n",
              "      <td>False</td>\n",
              "      <td>True</td>\n",
              "      <td>False</td>\n",
              "      <td>False</td>\n",
              "      <td>True</td>\n",
              "      <td>True</td>\n",
              "      <td>False</td>\n",
              "      <td>1</td>\n",
              "      <td>0</td>\n",
              "      <td>0</td>\n",
              "    </tr>\n",
              "  </tbody>\n",
              "</table>\n",
              "<p>9240 rows × 13 columns</p>\n",
              "</div>\n",
              "    <div class=\"colab-df-buttons\">\n",
              "\n",
              "  <div class=\"colab-df-container\">\n",
              "    <button class=\"colab-df-convert\" onclick=\"convertToInteractive('df-918a37b0-05d9-45b2-bddd-54d84246b075')\"\n",
              "            title=\"Convert this dataframe to an interactive table.\"\n",
              "            style=\"display:none;\">\n",
              "\n",
              "  <svg xmlns=\"http://www.w3.org/2000/svg\" height=\"24px\" viewBox=\"0 -960 960 960\">\n",
              "    <path d=\"M120-120v-720h720v720H120Zm60-500h600v-160H180v160Zm220 220h160v-160H400v160Zm0 220h160v-160H400v160ZM180-400h160v-160H180v160Zm440 0h160v-160H620v160ZM180-180h160v-160H180v160Zm440 0h160v-160H620v160Z\"/>\n",
              "  </svg>\n",
              "    </button>\n",
              "\n",
              "  <style>\n",
              "    .colab-df-container {\n",
              "      display:flex;\n",
              "      gap: 12px;\n",
              "    }\n",
              "\n",
              "    .colab-df-convert {\n",
              "      background-color: #E8F0FE;\n",
              "      border: none;\n",
              "      border-radius: 50%;\n",
              "      cursor: pointer;\n",
              "      display: none;\n",
              "      fill: #1967D2;\n",
              "      height: 32px;\n",
              "      padding: 0 0 0 0;\n",
              "      width: 32px;\n",
              "    }\n",
              "\n",
              "    .colab-df-convert:hover {\n",
              "      background-color: #E2EBFA;\n",
              "      box-shadow: 0px 1px 2px rgba(60, 64, 67, 0.3), 0px 1px 3px 1px rgba(60, 64, 67, 0.15);\n",
              "      fill: #174EA6;\n",
              "    }\n",
              "\n",
              "    .colab-df-buttons div {\n",
              "      margin-bottom: 4px;\n",
              "    }\n",
              "\n",
              "    [theme=dark] .colab-df-convert {\n",
              "      background-color: #3B4455;\n",
              "      fill: #D2E3FC;\n",
              "    }\n",
              "\n",
              "    [theme=dark] .colab-df-convert:hover {\n",
              "      background-color: #434B5C;\n",
              "      box-shadow: 0px 1px 3px 1px rgba(0, 0, 0, 0.15);\n",
              "      filter: drop-shadow(0px 1px 2px rgba(0, 0, 0, 0.3));\n",
              "      fill: #FFFFFF;\n",
              "    }\n",
              "  </style>\n",
              "\n",
              "    <script>\n",
              "      const buttonEl =\n",
              "        document.querySelector('#df-918a37b0-05d9-45b2-bddd-54d84246b075 button.colab-df-convert');\n",
              "      buttonEl.style.display =\n",
              "        google.colab.kernel.accessAllowed ? 'block' : 'none';\n",
              "\n",
              "      async function convertToInteractive(key) {\n",
              "        const element = document.querySelector('#df-918a37b0-05d9-45b2-bddd-54d84246b075');\n",
              "        const dataTable =\n",
              "          await google.colab.kernel.invokeFunction('convertToInteractive',\n",
              "                                                    [key], {});\n",
              "        if (!dataTable) return;\n",
              "\n",
              "        const docLinkHtml = 'Like what you see? Visit the ' +\n",
              "          '<a target=\"_blank\" href=https://colab.research.google.com/notebooks/data_table.ipynb>data table notebook</a>'\n",
              "          + ' to learn more about interactive tables.';\n",
              "        element.innerHTML = '';\n",
              "        dataTable['output_type'] = 'display_data';\n",
              "        await google.colab.output.renderOutput(dataTable, element);\n",
              "        const docLink = document.createElement('div');\n",
              "        docLink.innerHTML = docLinkHtml;\n",
              "        element.appendChild(docLink);\n",
              "      }\n",
              "    </script>\n",
              "  </div>\n",
              "\n",
              "\n",
              "<div id=\"df-d72020f2-3fd7-4ee6-b7cc-3eab81420642\">\n",
              "  <button class=\"colab-df-quickchart\" onclick=\"quickchart('df-d72020f2-3fd7-4ee6-b7cc-3eab81420642')\"\n",
              "            title=\"Suggest charts\"\n",
              "            style=\"display:none;\">\n",
              "\n",
              "<svg xmlns=\"http://www.w3.org/2000/svg\" height=\"24px\"viewBox=\"0 0 24 24\"\n",
              "     width=\"24px\">\n",
              "    <g>\n",
              "        <path d=\"M19 3H5c-1.1 0-2 .9-2 2v14c0 1.1.9 2 2 2h14c1.1 0 2-.9 2-2V5c0-1.1-.9-2-2-2zM9 17H7v-7h2v7zm4 0h-2V7h2v10zm4 0h-2v-4h2v4z\"/>\n",
              "    </g>\n",
              "</svg>\n",
              "  </button>\n",
              "\n",
              "<style>\n",
              "  .colab-df-quickchart {\n",
              "      --bg-color: #E8F0FE;\n",
              "      --fill-color: #1967D2;\n",
              "      --hover-bg-color: #E2EBFA;\n",
              "      --hover-fill-color: #174EA6;\n",
              "      --disabled-fill-color: #AAA;\n",
              "      --disabled-bg-color: #DDD;\n",
              "  }\n",
              "\n",
              "  [theme=dark] .colab-df-quickchart {\n",
              "      --bg-color: #3B4455;\n",
              "      --fill-color: #D2E3FC;\n",
              "      --hover-bg-color: #434B5C;\n",
              "      --hover-fill-color: #FFFFFF;\n",
              "      --disabled-bg-color: #3B4455;\n",
              "      --disabled-fill-color: #666;\n",
              "  }\n",
              "\n",
              "  .colab-df-quickchart {\n",
              "    background-color: var(--bg-color);\n",
              "    border: none;\n",
              "    border-radius: 50%;\n",
              "    cursor: pointer;\n",
              "    display: none;\n",
              "    fill: var(--fill-color);\n",
              "    height: 32px;\n",
              "    padding: 0;\n",
              "    width: 32px;\n",
              "  }\n",
              "\n",
              "  .colab-df-quickchart:hover {\n",
              "    background-color: var(--hover-bg-color);\n",
              "    box-shadow: 0 1px 2px rgba(60, 64, 67, 0.3), 0 1px 3px 1px rgba(60, 64, 67, 0.15);\n",
              "    fill: var(--button-hover-fill-color);\n",
              "  }\n",
              "\n",
              "  .colab-df-quickchart-complete:disabled,\n",
              "  .colab-df-quickchart-complete:disabled:hover {\n",
              "    background-color: var(--disabled-bg-color);\n",
              "    fill: var(--disabled-fill-color);\n",
              "    box-shadow: none;\n",
              "  }\n",
              "\n",
              "  .colab-df-spinner {\n",
              "    border: 2px solid var(--fill-color);\n",
              "    border-color: transparent;\n",
              "    border-bottom-color: var(--fill-color);\n",
              "    animation:\n",
              "      spin 1s steps(1) infinite;\n",
              "  }\n",
              "\n",
              "  @keyframes spin {\n",
              "    0% {\n",
              "      border-color: transparent;\n",
              "      border-bottom-color: var(--fill-color);\n",
              "      border-left-color: var(--fill-color);\n",
              "    }\n",
              "    20% {\n",
              "      border-color: transparent;\n",
              "      border-left-color: var(--fill-color);\n",
              "      border-top-color: var(--fill-color);\n",
              "    }\n",
              "    30% {\n",
              "      border-color: transparent;\n",
              "      border-left-color: var(--fill-color);\n",
              "      border-top-color: var(--fill-color);\n",
              "      border-right-color: var(--fill-color);\n",
              "    }\n",
              "    40% {\n",
              "      border-color: transparent;\n",
              "      border-right-color: var(--fill-color);\n",
              "      border-top-color: var(--fill-color);\n",
              "    }\n",
              "    60% {\n",
              "      border-color: transparent;\n",
              "      border-right-color: var(--fill-color);\n",
              "    }\n",
              "    80% {\n",
              "      border-color: transparent;\n",
              "      border-right-color: var(--fill-color);\n",
              "      border-bottom-color: var(--fill-color);\n",
              "    }\n",
              "    90% {\n",
              "      border-color: transparent;\n",
              "      border-bottom-color: var(--fill-color);\n",
              "    }\n",
              "  }\n",
              "</style>\n",
              "\n",
              "  <script>\n",
              "    async function quickchart(key) {\n",
              "      const quickchartButtonEl =\n",
              "        document.querySelector('#' + key + ' button');\n",
              "      quickchartButtonEl.disabled = true;  // To prevent multiple clicks.\n",
              "      quickchartButtonEl.classList.add('colab-df-spinner');\n",
              "      try {\n",
              "        const charts = await google.colab.kernel.invokeFunction(\n",
              "            'suggestCharts', [key], {});\n",
              "      } catch (error) {\n",
              "        console.error('Error during call to suggestCharts:', error);\n",
              "      }\n",
              "      quickchartButtonEl.classList.remove('colab-df-spinner');\n",
              "      quickchartButtonEl.classList.add('colab-df-quickchart-complete');\n",
              "    }\n",
              "    (() => {\n",
              "      let quickchartButtonEl =\n",
              "        document.querySelector('#df-d72020f2-3fd7-4ee6-b7cc-3eab81420642 button');\n",
              "      quickchartButtonEl.style.display =\n",
              "        google.colab.kernel.accessAllowed ? 'block' : 'none';\n",
              "    })();\n",
              "  </script>\n",
              "</div>\n",
              "\n",
              "  <div id=\"id_01907393-776b-40b6-97d5-cd8484d6d6a7\">\n",
              "    <style>\n",
              "      .colab-df-generate {\n",
              "        background-color: #E8F0FE;\n",
              "        border: none;\n",
              "        border-radius: 50%;\n",
              "        cursor: pointer;\n",
              "        display: none;\n",
              "        fill: #1967D2;\n",
              "        height: 32px;\n",
              "        padding: 0 0 0 0;\n",
              "        width: 32px;\n",
              "      }\n",
              "\n",
              "      .colab-df-generate:hover {\n",
              "        background-color: #E2EBFA;\n",
              "        box-shadow: 0px 1px 2px rgba(60, 64, 67, 0.3), 0px 1px 3px 1px rgba(60, 64, 67, 0.15);\n",
              "        fill: #174EA6;\n",
              "      }\n",
              "\n",
              "      [theme=dark] .colab-df-generate {\n",
              "        background-color: #3B4455;\n",
              "        fill: #D2E3FC;\n",
              "      }\n",
              "\n",
              "      [theme=dark] .colab-df-generate:hover {\n",
              "        background-color: #434B5C;\n",
              "        box-shadow: 0px 1px 3px 1px rgba(0, 0, 0, 0.15);\n",
              "        filter: drop-shadow(0px 1px 2px rgba(0, 0, 0, 0.3));\n",
              "        fill: #FFFFFF;\n",
              "      }\n",
              "    </style>\n",
              "    <button class=\"colab-df-generate\" onclick=\"generateWithVariable('leads_df')\"\n",
              "            title=\"Generate code using this dataframe.\"\n",
              "            style=\"display:none;\">\n",
              "\n",
              "  <svg xmlns=\"http://www.w3.org/2000/svg\" height=\"24px\"viewBox=\"0 0 24 24\"\n",
              "       width=\"24px\">\n",
              "    <path d=\"M7,19H8.4L18.45,9,17,7.55,7,17.6ZM5,21V16.75L18.45,3.32a2,2,0,0,1,2.83,0l1.4,1.43a1.91,1.91,0,0,1,.58,1.4,1.91,1.91,0,0,1-.58,1.4L9.25,21ZM18.45,9,17,7.55Zm-12,3A5.31,5.31,0,0,0,4.9,8.1,5.31,5.31,0,0,0,1,6.5,5.31,5.31,0,0,0,4.9,4.9,5.31,5.31,0,0,0,6.5,1,5.31,5.31,0,0,0,8.1,4.9,5.31,5.31,0,0,0,12,6.5,5.46,5.46,0,0,0,6.5,12Z\"/>\n",
              "  </svg>\n",
              "    </button>\n",
              "    <script>\n",
              "      (() => {\n",
              "      const buttonEl =\n",
              "        document.querySelector('#id_01907393-776b-40b6-97d5-cd8484d6d6a7 button.colab-df-generate');\n",
              "      buttonEl.style.display =\n",
              "        google.colab.kernel.accessAllowed ? 'block' : 'none';\n",
              "\n",
              "      buttonEl.onclick = () => {\n",
              "        google.colab.notebook.generateWithVariable('leads_df');\n",
              "      }\n",
              "      })();\n",
              "    </script>\n",
              "  </div>\n",
              "\n",
              "    </div>\n",
              "  </div>\n"
            ],
            "application/vnd.google.colaboratory.intrinsic+json": {
              "type": "dataframe",
              "variable_name": "leads_df",
              "summary": "{\n  \"name\": \"leads_df\",\n  \"rows\": 9240,\n  \"fields\": [\n    {\n      \"column\": \"Do Not Email\",\n      \"properties\": {\n        \"dtype\": \"number\",\n        \"std\": 0,\n        \"min\": 0,\n        \"max\": 1,\n        \"num_unique_values\": 2,\n        \"samples\": [\n          1,\n          0\n        ],\n        \"semantic_type\": \"\",\n        \"description\": \"\"\n      }\n    },\n    {\n      \"column\": \"Total Time Spent on Website\",\n      \"properties\": {\n        \"dtype\": \"number\",\n        \"std\": 1.0000541169467643,\n        \"min\": -0.8899736436158726,\n        \"max\": 3.2560737166425877,\n        \"num_unique_values\": 1731,\n        \"samples\": [\n          2.4476674751837417,\n          1.6155382514698957\n        ],\n        \"semantic_type\": \"\",\n        \"description\": \"\"\n      }\n    },\n    {\n      \"column\": \"Lead Origin_Lead Add Form\",\n      \"properties\": {\n        \"dtype\": \"boolean\",\n        \"num_unique_values\": 2,\n        \"samples\": [\n          true,\n          false\n        ],\n        \"semantic_type\": \"\",\n        \"description\": \"\"\n      }\n    },\n    {\n      \"column\": \"Lead Source_Welingak Website\",\n      \"properties\": {\n        \"dtype\": \"boolean\",\n        \"num_unique_values\": 2,\n        \"samples\": [\n          true,\n          false\n        ],\n        \"semantic_type\": \"\",\n        \"description\": \"\"\n      }\n    },\n    {\n      \"column\": \"What is your current occupation_Unemployed\",\n      \"properties\": {\n        \"dtype\": \"boolean\",\n        \"num_unique_values\": 2,\n        \"samples\": [\n          false,\n          true\n        ],\n        \"semantic_type\": \"\",\n        \"description\": \"\"\n      }\n    },\n    {\n      \"column\": \"What is your current occupation_Working Professional\",\n      \"properties\": {\n        \"dtype\": \"boolean\",\n        \"num_unique_values\": 2,\n        \"samples\": [\n          true,\n          false\n        ],\n        \"semantic_type\": \"\",\n        \"description\": \"\"\n      }\n    },\n    {\n      \"column\": \"Tags_Ringing\",\n      \"properties\": {\n        \"dtype\": \"boolean\",\n        \"num_unique_values\": 2,\n        \"samples\": [\n          true,\n          false\n        ],\n        \"semantic_type\": \"\",\n        \"description\": \"\"\n      }\n    },\n    {\n      \"column\": \"Tags_Will revert after reading the email\",\n      \"properties\": {\n        \"dtype\": \"boolean\",\n        \"num_unique_values\": 2,\n        \"samples\": [\n          true,\n          false\n        ],\n        \"semantic_type\": \"\",\n        \"description\": \"\"\n      }\n    },\n    {\n      \"column\": \"Last Notable Activity_Modified\",\n      \"properties\": {\n        \"dtype\": \"boolean\",\n        \"num_unique_values\": 2,\n        \"samples\": [\n          false,\n          true\n        ],\n        \"semantic_type\": \"\",\n        \"description\": \"\"\n      }\n    },\n    {\n      \"column\": \"Last Notable Activity_SMS Sent\",\n      \"properties\": {\n        \"dtype\": \"boolean\",\n        \"num_unique_values\": 2,\n        \"samples\": [\n          true,\n          false\n        ],\n        \"semantic_type\": \"\",\n        \"description\": \"\"\n      }\n    },\n    {\n      \"column\": \"Converted\",\n      \"properties\": {\n        \"dtype\": \"number\",\n        \"std\": 0,\n        \"min\": 0,\n        \"max\": 1,\n        \"num_unique_values\": 2,\n        \"samples\": [\n          1,\n          0\n        ],\n        \"semantic_type\": \"\",\n        \"description\": \"\"\n      }\n    },\n    {\n      \"column\": \"Tags_Other\",\n      \"properties\": {\n        \"dtype\": \"number\",\n        \"std\": 0,\n        \"min\": 0,\n        \"max\": 1,\n        \"num_unique_values\": 2,\n        \"samples\": [\n          1,\n          0\n        ],\n        \"semantic_type\": \"\",\n        \"description\": \"\"\n      }\n    },\n    {\n      \"column\": \"Last Notable Activity_Other\",\n      \"properties\": {\n        \"dtype\": \"number\",\n        \"std\": 0,\n        \"min\": 0,\n        \"max\": 1,\n        \"num_unique_values\": 2,\n        \"samples\": [\n          1,\n          0\n        ],\n        \"semantic_type\": \"\",\n        \"description\": \"\"\n      }\n    }\n  ]\n}"
            }
          },
          "metadata": {},
          "execution_count": 31
        }
      ]
    },
    {
      "cell_type": "markdown",
      "source": [
        "##Part5: Model Building"
      ],
      "metadata": {
        "id": "j32VzqB-C3Ea"
      }
    },
    {
      "cell_type": "code",
      "source": [
        "from sklearn.model_selection import train_test_split\n",
        "\n",
        "# Define the feature matrix X and the target vector y\n",
        "X = leads_df.drop(columns=['Converted'])\n",
        "y = leads_df['Converted']\n",
        "\n",
        "# Split the data into training (70%) and testing (30%) sets\n",
        "X_train, X_test, y_train, y_test = train_test_split(X, y, test_size=0.3, random_state=42, stratify=y)\n",
        "\n",
        "\n",
        "print(\"Training set shape:\", X_train.shape)\n",
        "print(\"Testing set shape:\", X_test.shape)\n"
      ],
      "metadata": {
        "colab": {
          "base_uri": "https://localhost:8080/"
        },
        "id": "14WDU_h-C5d0",
        "outputId": "30ab8b88-4067-4725-8f1c-bbb358cc6656"
      },
      "execution_count": null,
      "outputs": [
        {
          "output_type": "stream",
          "name": "stdout",
          "text": [
            "Training set shape: (6468, 12)\n",
            "Testing set shape: (2772, 12)\n"
          ]
        }
      ]
    },
    {
      "cell_type": "code",
      "source": [
        "# Import the Logistic Regression model\n",
        "from sklearn.linear_model import LogisticRegression\n",
        "\n",
        "# Instantiate the model\n",
        "logreg = LogisticRegression(max_iter=1000, random_state=42)\n",
        "\n",
        "# Train the model on the training data\n",
        "logreg.fit(X_train, y_train)\n",
        "\n",
        "# Display the model's coefficients for each feature\n",
        "coefficients = pd.DataFrame({'Feature': X_train.columns, 'Coefficient': logreg.coef_[0]})\n",
        "coefficients = coefficients.sort_values(by='Coefficient', ascending=False)\n",
        "print(coefficients)\n"
      ],
      "metadata": {
        "colab": {
          "base_uri": "https://localhost:8080/"
        },
        "id": "Fuyxpa0fDX2i",
        "outputId": "434b84bd-bf88-471c-b629-02e314217052"
      },
      "execution_count": null,
      "outputs": [
        {
          "output_type": "stream",
          "name": "stdout",
          "text": [
            "                                              Feature  Coefficient\n",
            "2                           Lead Origin_Lead Add Form     3.645472\n",
            "7            Tags_Will revert after reading the email     3.145750\n",
            "10                                         Tags_Other     2.879779\n",
            "9                      Last Notable Activity_SMS Sent     1.808257\n",
            "5   What is your current occupation_Working Profes...     1.523548\n",
            "1                         Total Time Spent on Website     1.025921\n",
            "3                        Lead Source_Welingak Website     0.987057\n",
            "8                      Last Notable Activity_Modified    -0.615122\n",
            "11                        Last Notable Activity_Other    -0.765344\n",
            "4          What is your current occupation_Unemployed    -1.135490\n",
            "6                                        Tags_Ringing    -1.148978\n",
            "0                                        Do Not Email    -1.816047\n"
          ]
        }
      ]
    },
    {
      "cell_type": "code",
      "source": [
        "# Check data types of features in X_train\n",
        "print(\"Data types in X_train:\")\n",
        "print(X_train.dtypes)\n",
        "\n",
        "# Check data type of the target variable y_train\n",
        "print(\"\\nData type of y_train:\")\n",
        "print(y_train.dtypes)\n"
      ],
      "metadata": {
        "colab": {
          "base_uri": "https://localhost:8080/"
        },
        "id": "ZjSb6kSkFLSW",
        "outputId": "183f0629-4f7c-45b8-e542-11e5c660ce3f"
      },
      "execution_count": null,
      "outputs": [
        {
          "output_type": "stream",
          "name": "stdout",
          "text": [
            "Data types in X_train:\n",
            "Do Not Email                                              int64\n",
            "Total Time Spent on Website                             float64\n",
            "Lead Origin_Lead Add Form                                  bool\n",
            "Lead Source_Welingak Website                               bool\n",
            "What is your current occupation_Unemployed                 bool\n",
            "What is your current occupation_Working Professional       bool\n",
            "Tags_Ringing                                               bool\n",
            "Tags_Will revert after reading the email                   bool\n",
            "Last Notable Activity_Modified                             bool\n",
            "Last Notable Activity_SMS Sent                             bool\n",
            "Tags_Other                                                int64\n",
            "Last Notable Activity_Other                               int64\n",
            "dtype: object\n",
            "\n",
            "Data type of y_train:\n",
            "int64\n"
          ]
        }
      ]
    },
    {
      "cell_type": "code",
      "source": [
        "# Convert boolean columns to integers\n",
        "X_train_processed = X_train.select_dtypes(include=['bool']).astype(int)\n",
        "\n",
        "# Add numeric columns\n",
        "numeric_columns = X_train.select_dtypes(include=['float64', 'int64'])\n",
        "X_train_processed = pd.concat([X_train_processed, numeric_columns], axis=1)"
      ],
      "metadata": {
        "id": "qRBkKhx5FWPt"
      },
      "execution_count": null,
      "outputs": []
    },
    {
      "cell_type": "code",
      "source": [
        "# Re-check data types to confirm\n",
        "print(\"Updated data types in X_train:\")\n",
        "print(X_train_processed.dtypes)\n"
      ],
      "metadata": {
        "colab": {
          "base_uri": "https://localhost:8080/"
        },
        "id": "hnu7UV3WFZBF",
        "outputId": "46ef9e66-6e30-4c3a-8d91-7fca601a0157"
      },
      "execution_count": null,
      "outputs": [
        {
          "output_type": "stream",
          "name": "stdout",
          "text": [
            "Updated data types in X_train:\n",
            "Lead Origin_Lead Add Form                                 int64\n",
            "Lead Source_Welingak Website                              int64\n",
            "What is your current occupation_Unemployed                int64\n",
            "What is your current occupation_Working Professional      int64\n",
            "Tags_Ringing                                              int64\n",
            "Tags_Will revert after reading the email                  int64\n",
            "Last Notable Activity_Modified                            int64\n",
            "Last Notable Activity_SMS Sent                            int64\n",
            "Do Not Email                                              int64\n",
            "Total Time Spent on Website                             float64\n",
            "Tags_Other                                                int64\n",
            "Last Notable Activity_Other                               int64\n",
            "dtype: object\n"
          ]
        }
      ]
    },
    {
      "cell_type": "code",
      "source": [],
      "metadata": {
        "id": "H19FPc4KxtDT"
      },
      "execution_count": null,
      "outputs": []
    },
    {
      "cell_type": "code",
      "source": [
        "# Convert to numpy arrays\n",
        "X_train_sm = sm.add_constant(X_train_processed)\n",
        "y_train_array = y_train\n",
        "\n",
        "\n",
        "logm2 = sm.GLM(y_train_array, X_train_sm, family=sm.families.Binomial())\n",
        "res = logm2.fit()\n",
        "\n",
        "# model summary\n",
        "print(res.summary())"
      ],
      "metadata": {
        "colab": {
          "base_uri": "https://localhost:8080/"
        },
        "id": "y0-FRmd-GKRT",
        "outputId": "8906e1f4-def0-429b-b818-69a0af1c0db8"
      },
      "execution_count": null,
      "outputs": [
        {
          "output_type": "stream",
          "name": "stdout",
          "text": [
            "                 Generalized Linear Model Regression Results                  \n",
            "==============================================================================\n",
            "Dep. Variable:              Converted   No. Observations:                 6468\n",
            "Model:                            GLM   Df Residuals:                     6455\n",
            "Model Family:                Binomial   Df Model:                           12\n",
            "Link Function:                  Logit   Scale:                          1.0000\n",
            "Method:                          IRLS   Log-Likelihood:                -2129.3\n",
            "Date:                Tue, 19 Nov 2024   Deviance:                       4258.7\n",
            "Time:                        04:57:56   Pearson chi2:                 8.87e+03\n",
            "No. Iterations:                     7   Pseudo R-squ. (CS):             0.4908\n",
            "Covariance Type:            nonrobust                                         \n",
            "========================================================================================================================\n",
            "                                                           coef    std err          z      P>|z|      [0.025      0.975]\n",
            "------------------------------------------------------------------------------------------------------------------------\n",
            "const                                                   -2.6423      0.314     -8.417      0.000      -3.258      -2.027\n",
            "Lead Origin_Lead Add Form                                3.8045      0.230     16.567      0.000       3.354       4.255\n",
            "Lead Source_Welingak Website                             1.3467      0.766      1.758      0.079      -0.155       2.848\n",
            "What is your current occupation_Unemployed              -1.1192      0.282     -3.963      0.000      -1.673      -0.566\n",
            "What is your current occupation_Working Professional     1.6490      0.355      4.641      0.000       0.953       2.345\n",
            "Tags_Ringing                                            -1.0643      0.307     -3.471      0.001      -1.665      -0.463\n",
            "Tags_Will revert after reading the email                 3.3553      0.214     15.690      0.000       2.936       3.774\n",
            "Last Notable Activity_Modified                          -0.6251      0.090     -6.980      0.000      -0.801      -0.450\n",
            "Last Notable Activity_SMS Sent                           1.8330      0.106     17.224      0.000       1.624       2.042\n",
            "Do Not Email                                            -1.8869      0.178    -10.584      0.000      -2.236      -1.537\n",
            "Total Time Spent on Website                              1.0428      0.041     25.292      0.000       0.962       1.124\n",
            "Tags_Other                                               3.0953      0.227     13.637      0.000       2.650       3.540\n",
            "Last Notable Activity_Other                             -0.8438      0.274     -3.080      0.002      -1.381      -0.307\n",
            "========================================================================================================================\n"
          ]
        }
      ]
    },
    {
      "cell_type": "code",
      "source": [
        "X_train_sm.drop('Lead Source_Welingak Website', axis = 1, inplace = True)"
      ],
      "metadata": {
        "id": "o0wlPDOGmD39"
      },
      "execution_count": null,
      "outputs": []
    },
    {
      "cell_type": "code",
      "source": [
        "logm2 = sm.GLM(y_train_array, X_train_sm, family=sm.families.Binomial())\n",
        "res = logm2.fit()\n",
        "\n",
        "# model summary\n",
        "print(res.summary())"
      ],
      "metadata": {
        "colab": {
          "base_uri": "https://localhost:8080/"
        },
        "id": "RA8ZcAatojoI",
        "outputId": "2c93ebe4-4ef0-4aa7-913b-a021e1f06d96"
      },
      "execution_count": null,
      "outputs": [
        {
          "output_type": "stream",
          "name": "stdout",
          "text": [
            "                 Generalized Linear Model Regression Results                  \n",
            "==============================================================================\n",
            "Dep. Variable:              Converted   No. Observations:                 6468\n",
            "Model:                            GLM   Df Residuals:                     6456\n",
            "Model Family:                Binomial   Df Model:                           11\n",
            "Link Function:                  Logit   Scale:                          1.0000\n",
            "Method:                          IRLS   Log-Likelihood:                -2131.5\n",
            "Date:                Tue, 19 Nov 2024   Deviance:                       4262.9\n",
            "Time:                        04:57:56   Pearson chi2:                 9.04e+03\n",
            "No. Iterations:                     7   Pseudo R-squ. (CS):             0.4905\n",
            "Covariance Type:            nonrobust                                         \n",
            "========================================================================================================================\n",
            "                                                           coef    std err          z      P>|z|      [0.025      0.975]\n",
            "------------------------------------------------------------------------------------------------------------------------\n",
            "const                                                   -2.6574      0.315     -8.433      0.000      -3.275      -2.040\n",
            "Lead Origin_Lead Add Form                                3.9911      0.217     18.416      0.000       3.566       4.416\n",
            "What is your current occupation_Unemployed              -1.1143      0.283     -3.931      0.000      -1.670      -0.559\n",
            "What is your current occupation_Working Professional     1.6447      0.356      4.614      0.000       0.946       2.343\n",
            "Tags_Ringing                                            -1.0849      0.308     -3.519      0.000      -1.689      -0.481\n",
            "Tags_Will revert after reading the email                 3.3671      0.215     15.686      0.000       2.946       3.788\n",
            "Last Notable Activity_Modified                          -0.6250      0.090     -6.982      0.000      -0.800      -0.450\n",
            "Last Notable Activity_SMS Sent                           1.8338      0.106     17.236      0.000       1.625       2.042\n",
            "Do Not Email                                            -1.8755      0.177    -10.586      0.000      -2.223      -1.528\n",
            "Total Time Spent on Website                              1.0436      0.041     25.294      0.000       0.963       1.124\n",
            "Tags_Other                                               3.1027      0.228     13.621      0.000       2.656       3.549\n",
            "Last Notable Activity_Other                             -0.8456      0.274     -3.085      0.002      -1.383      -0.308\n",
            "========================================================================================================================\n"
          ]
        }
      ]
    },
    {
      "cell_type": "markdown",
      "source": [
        "##Part6: Model Evaluation"
      ],
      "metadata": {
        "id": "DQDMuMfwow5f"
      }
    },
    {
      "cell_type": "code",
      "source": [
        "print(\"Model exog shape:\", res.model.exog.shape)\n",
        "print(\"X_train shape:\", X_train.shape)"
      ],
      "metadata": {
        "colab": {
          "base_uri": "https://localhost:8080/"
        },
        "id": "v-QW5W9apZVc",
        "outputId": "2ee64bbc-ffda-442e-f19a-662cce7c093f"
      },
      "execution_count": null,
      "outputs": [
        {
          "output_type": "stream",
          "name": "stdout",
          "text": [
            "Model exog shape: (6468, 12)\n",
            "X_train shape: (6468, 12)\n"
          ]
        }
      ]
    },
    {
      "cell_type": "code",
      "source": [
        "from sklearn.linear_model import LogisticRegression\n",
        "\n",
        "# Define and fit the logistic regression model\n",
        "model = LogisticRegression(max_iter=1000, solver='lbfgs', random_state=42)\n",
        "model.fit(X_train, y_train)\n"
      ],
      "metadata": {
        "colab": {
          "base_uri": "https://localhost:8080/",
          "height": 80
        },
        "id": "uoWYMwuwpqAh",
        "outputId": "bf51c9ea-266d-4626-9547-c32456ab49ad"
      },
      "execution_count": null,
      "outputs": [
        {
          "output_type": "execute_result",
          "data": {
            "text/plain": [
              "LogisticRegression(max_iter=1000, random_state=42)"
            ],
            "text/html": [
              "<style>#sk-container-id-1 {\n",
              "  /* Definition of color scheme common for light and dark mode */\n",
              "  --sklearn-color-text: black;\n",
              "  --sklearn-color-line: gray;\n",
              "  /* Definition of color scheme for unfitted estimators */\n",
              "  --sklearn-color-unfitted-level-0: #fff5e6;\n",
              "  --sklearn-color-unfitted-level-1: #f6e4d2;\n",
              "  --sklearn-color-unfitted-level-2: #ffe0b3;\n",
              "  --sklearn-color-unfitted-level-3: chocolate;\n",
              "  /* Definition of color scheme for fitted estimators */\n",
              "  --sklearn-color-fitted-level-0: #f0f8ff;\n",
              "  --sklearn-color-fitted-level-1: #d4ebff;\n",
              "  --sklearn-color-fitted-level-2: #b3dbfd;\n",
              "  --sklearn-color-fitted-level-3: cornflowerblue;\n",
              "\n",
              "  /* Specific color for light theme */\n",
              "  --sklearn-color-text-on-default-background: var(--sg-text-color, var(--theme-code-foreground, var(--jp-content-font-color1, black)));\n",
              "  --sklearn-color-background: var(--sg-background-color, var(--theme-background, var(--jp-layout-color0, white)));\n",
              "  --sklearn-color-border-box: var(--sg-text-color, var(--theme-code-foreground, var(--jp-content-font-color1, black)));\n",
              "  --sklearn-color-icon: #696969;\n",
              "\n",
              "  @media (prefers-color-scheme: dark) {\n",
              "    /* Redefinition of color scheme for dark theme */\n",
              "    --sklearn-color-text-on-default-background: var(--sg-text-color, var(--theme-code-foreground, var(--jp-content-font-color1, white)));\n",
              "    --sklearn-color-background: var(--sg-background-color, var(--theme-background, var(--jp-layout-color0, #111)));\n",
              "    --sklearn-color-border-box: var(--sg-text-color, var(--theme-code-foreground, var(--jp-content-font-color1, white)));\n",
              "    --sklearn-color-icon: #878787;\n",
              "  }\n",
              "}\n",
              "\n",
              "#sk-container-id-1 {\n",
              "  color: var(--sklearn-color-text);\n",
              "}\n",
              "\n",
              "#sk-container-id-1 pre {\n",
              "  padding: 0;\n",
              "}\n",
              "\n",
              "#sk-container-id-1 input.sk-hidden--visually {\n",
              "  border: 0;\n",
              "  clip: rect(1px 1px 1px 1px);\n",
              "  clip: rect(1px, 1px, 1px, 1px);\n",
              "  height: 1px;\n",
              "  margin: -1px;\n",
              "  overflow: hidden;\n",
              "  padding: 0;\n",
              "  position: absolute;\n",
              "  width: 1px;\n",
              "}\n",
              "\n",
              "#sk-container-id-1 div.sk-dashed-wrapped {\n",
              "  border: 1px dashed var(--sklearn-color-line);\n",
              "  margin: 0 0.4em 0.5em 0.4em;\n",
              "  box-sizing: border-box;\n",
              "  padding-bottom: 0.4em;\n",
              "  background-color: var(--sklearn-color-background);\n",
              "}\n",
              "\n",
              "#sk-container-id-1 div.sk-container {\n",
              "  /* jupyter's `normalize.less` sets `[hidden] { display: none; }`\n",
              "     but bootstrap.min.css set `[hidden] { display: none !important; }`\n",
              "     so we also need the `!important` here to be able to override the\n",
              "     default hidden behavior on the sphinx rendered scikit-learn.org.\n",
              "     See: https://github.com/scikit-learn/scikit-learn/issues/21755 */\n",
              "  display: inline-block !important;\n",
              "  position: relative;\n",
              "}\n",
              "\n",
              "#sk-container-id-1 div.sk-text-repr-fallback {\n",
              "  display: none;\n",
              "}\n",
              "\n",
              "div.sk-parallel-item,\n",
              "div.sk-serial,\n",
              "div.sk-item {\n",
              "  /* draw centered vertical line to link estimators */\n",
              "  background-image: linear-gradient(var(--sklearn-color-text-on-default-background), var(--sklearn-color-text-on-default-background));\n",
              "  background-size: 2px 100%;\n",
              "  background-repeat: no-repeat;\n",
              "  background-position: center center;\n",
              "}\n",
              "\n",
              "/* Parallel-specific style estimator block */\n",
              "\n",
              "#sk-container-id-1 div.sk-parallel-item::after {\n",
              "  content: \"\";\n",
              "  width: 100%;\n",
              "  border-bottom: 2px solid var(--sklearn-color-text-on-default-background);\n",
              "  flex-grow: 1;\n",
              "}\n",
              "\n",
              "#sk-container-id-1 div.sk-parallel {\n",
              "  display: flex;\n",
              "  align-items: stretch;\n",
              "  justify-content: center;\n",
              "  background-color: var(--sklearn-color-background);\n",
              "  position: relative;\n",
              "}\n",
              "\n",
              "#sk-container-id-1 div.sk-parallel-item {\n",
              "  display: flex;\n",
              "  flex-direction: column;\n",
              "}\n",
              "\n",
              "#sk-container-id-1 div.sk-parallel-item:first-child::after {\n",
              "  align-self: flex-end;\n",
              "  width: 50%;\n",
              "}\n",
              "\n",
              "#sk-container-id-1 div.sk-parallel-item:last-child::after {\n",
              "  align-self: flex-start;\n",
              "  width: 50%;\n",
              "}\n",
              "\n",
              "#sk-container-id-1 div.sk-parallel-item:only-child::after {\n",
              "  width: 0;\n",
              "}\n",
              "\n",
              "/* Serial-specific style estimator block */\n",
              "\n",
              "#sk-container-id-1 div.sk-serial {\n",
              "  display: flex;\n",
              "  flex-direction: column;\n",
              "  align-items: center;\n",
              "  background-color: var(--sklearn-color-background);\n",
              "  padding-right: 1em;\n",
              "  padding-left: 1em;\n",
              "}\n",
              "\n",
              "\n",
              "/* Toggleable style: style used for estimator/Pipeline/ColumnTransformer box that is\n",
              "clickable and can be expanded/collapsed.\n",
              "- Pipeline and ColumnTransformer use this feature and define the default style\n",
              "- Estimators will overwrite some part of the style using the `sk-estimator` class\n",
              "*/\n",
              "\n",
              "/* Pipeline and ColumnTransformer style (default) */\n",
              "\n",
              "#sk-container-id-1 div.sk-toggleable {\n",
              "  /* Default theme specific background. It is overwritten whether we have a\n",
              "  specific estimator or a Pipeline/ColumnTransformer */\n",
              "  background-color: var(--sklearn-color-background);\n",
              "}\n",
              "\n",
              "/* Toggleable label */\n",
              "#sk-container-id-1 label.sk-toggleable__label {\n",
              "  cursor: pointer;\n",
              "  display: block;\n",
              "  width: 100%;\n",
              "  margin-bottom: 0;\n",
              "  padding: 0.5em;\n",
              "  box-sizing: border-box;\n",
              "  text-align: center;\n",
              "}\n",
              "\n",
              "#sk-container-id-1 label.sk-toggleable__label-arrow:before {\n",
              "  /* Arrow on the left of the label */\n",
              "  content: \"▸\";\n",
              "  float: left;\n",
              "  margin-right: 0.25em;\n",
              "  color: var(--sklearn-color-icon);\n",
              "}\n",
              "\n",
              "#sk-container-id-1 label.sk-toggleable__label-arrow:hover:before {\n",
              "  color: var(--sklearn-color-text);\n",
              "}\n",
              "\n",
              "/* Toggleable content - dropdown */\n",
              "\n",
              "#sk-container-id-1 div.sk-toggleable__content {\n",
              "  max-height: 0;\n",
              "  max-width: 0;\n",
              "  overflow: hidden;\n",
              "  text-align: left;\n",
              "  /* unfitted */\n",
              "  background-color: var(--sklearn-color-unfitted-level-0);\n",
              "}\n",
              "\n",
              "#sk-container-id-1 div.sk-toggleable__content.fitted {\n",
              "  /* fitted */\n",
              "  background-color: var(--sklearn-color-fitted-level-0);\n",
              "}\n",
              "\n",
              "#sk-container-id-1 div.sk-toggleable__content pre {\n",
              "  margin: 0.2em;\n",
              "  border-radius: 0.25em;\n",
              "  color: var(--sklearn-color-text);\n",
              "  /* unfitted */\n",
              "  background-color: var(--sklearn-color-unfitted-level-0);\n",
              "}\n",
              "\n",
              "#sk-container-id-1 div.sk-toggleable__content.fitted pre {\n",
              "  /* unfitted */\n",
              "  background-color: var(--sklearn-color-fitted-level-0);\n",
              "}\n",
              "\n",
              "#sk-container-id-1 input.sk-toggleable__control:checked~div.sk-toggleable__content {\n",
              "  /* Expand drop-down */\n",
              "  max-height: 200px;\n",
              "  max-width: 100%;\n",
              "  overflow: auto;\n",
              "}\n",
              "\n",
              "#sk-container-id-1 input.sk-toggleable__control:checked~label.sk-toggleable__label-arrow:before {\n",
              "  content: \"▾\";\n",
              "}\n",
              "\n",
              "/* Pipeline/ColumnTransformer-specific style */\n",
              "\n",
              "#sk-container-id-1 div.sk-label input.sk-toggleable__control:checked~label.sk-toggleable__label {\n",
              "  color: var(--sklearn-color-text);\n",
              "  background-color: var(--sklearn-color-unfitted-level-2);\n",
              "}\n",
              "\n",
              "#sk-container-id-1 div.sk-label.fitted input.sk-toggleable__control:checked~label.sk-toggleable__label {\n",
              "  background-color: var(--sklearn-color-fitted-level-2);\n",
              "}\n",
              "\n",
              "/* Estimator-specific style */\n",
              "\n",
              "/* Colorize estimator box */\n",
              "#sk-container-id-1 div.sk-estimator input.sk-toggleable__control:checked~label.sk-toggleable__label {\n",
              "  /* unfitted */\n",
              "  background-color: var(--sklearn-color-unfitted-level-2);\n",
              "}\n",
              "\n",
              "#sk-container-id-1 div.sk-estimator.fitted input.sk-toggleable__control:checked~label.sk-toggleable__label {\n",
              "  /* fitted */\n",
              "  background-color: var(--sklearn-color-fitted-level-2);\n",
              "}\n",
              "\n",
              "#sk-container-id-1 div.sk-label label.sk-toggleable__label,\n",
              "#sk-container-id-1 div.sk-label label {\n",
              "  /* The background is the default theme color */\n",
              "  color: var(--sklearn-color-text-on-default-background);\n",
              "}\n",
              "\n",
              "/* On hover, darken the color of the background */\n",
              "#sk-container-id-1 div.sk-label:hover label.sk-toggleable__label {\n",
              "  color: var(--sklearn-color-text);\n",
              "  background-color: var(--sklearn-color-unfitted-level-2);\n",
              "}\n",
              "\n",
              "/* Label box, darken color on hover, fitted */\n",
              "#sk-container-id-1 div.sk-label.fitted:hover label.sk-toggleable__label.fitted {\n",
              "  color: var(--sklearn-color-text);\n",
              "  background-color: var(--sklearn-color-fitted-level-2);\n",
              "}\n",
              "\n",
              "/* Estimator label */\n",
              "\n",
              "#sk-container-id-1 div.sk-label label {\n",
              "  font-family: monospace;\n",
              "  font-weight: bold;\n",
              "  display: inline-block;\n",
              "  line-height: 1.2em;\n",
              "}\n",
              "\n",
              "#sk-container-id-1 div.sk-label-container {\n",
              "  text-align: center;\n",
              "}\n",
              "\n",
              "/* Estimator-specific */\n",
              "#sk-container-id-1 div.sk-estimator {\n",
              "  font-family: monospace;\n",
              "  border: 1px dotted var(--sklearn-color-border-box);\n",
              "  border-radius: 0.25em;\n",
              "  box-sizing: border-box;\n",
              "  margin-bottom: 0.5em;\n",
              "  /* unfitted */\n",
              "  background-color: var(--sklearn-color-unfitted-level-0);\n",
              "}\n",
              "\n",
              "#sk-container-id-1 div.sk-estimator.fitted {\n",
              "  /* fitted */\n",
              "  background-color: var(--sklearn-color-fitted-level-0);\n",
              "}\n",
              "\n",
              "/* on hover */\n",
              "#sk-container-id-1 div.sk-estimator:hover {\n",
              "  /* unfitted */\n",
              "  background-color: var(--sklearn-color-unfitted-level-2);\n",
              "}\n",
              "\n",
              "#sk-container-id-1 div.sk-estimator.fitted:hover {\n",
              "  /* fitted */\n",
              "  background-color: var(--sklearn-color-fitted-level-2);\n",
              "}\n",
              "\n",
              "/* Specification for estimator info (e.g. \"i\" and \"?\") */\n",
              "\n",
              "/* Common style for \"i\" and \"?\" */\n",
              "\n",
              ".sk-estimator-doc-link,\n",
              "a:link.sk-estimator-doc-link,\n",
              "a:visited.sk-estimator-doc-link {\n",
              "  float: right;\n",
              "  font-size: smaller;\n",
              "  line-height: 1em;\n",
              "  font-family: monospace;\n",
              "  background-color: var(--sklearn-color-background);\n",
              "  border-radius: 1em;\n",
              "  height: 1em;\n",
              "  width: 1em;\n",
              "  text-decoration: none !important;\n",
              "  margin-left: 1ex;\n",
              "  /* unfitted */\n",
              "  border: var(--sklearn-color-unfitted-level-1) 1pt solid;\n",
              "  color: var(--sklearn-color-unfitted-level-1);\n",
              "}\n",
              "\n",
              ".sk-estimator-doc-link.fitted,\n",
              "a:link.sk-estimator-doc-link.fitted,\n",
              "a:visited.sk-estimator-doc-link.fitted {\n",
              "  /* fitted */\n",
              "  border: var(--sklearn-color-fitted-level-1) 1pt solid;\n",
              "  color: var(--sklearn-color-fitted-level-1);\n",
              "}\n",
              "\n",
              "/* On hover */\n",
              "div.sk-estimator:hover .sk-estimator-doc-link:hover,\n",
              ".sk-estimator-doc-link:hover,\n",
              "div.sk-label-container:hover .sk-estimator-doc-link:hover,\n",
              ".sk-estimator-doc-link:hover {\n",
              "  /* unfitted */\n",
              "  background-color: var(--sklearn-color-unfitted-level-3);\n",
              "  color: var(--sklearn-color-background);\n",
              "  text-decoration: none;\n",
              "}\n",
              "\n",
              "div.sk-estimator.fitted:hover .sk-estimator-doc-link.fitted:hover,\n",
              ".sk-estimator-doc-link.fitted:hover,\n",
              "div.sk-label-container:hover .sk-estimator-doc-link.fitted:hover,\n",
              ".sk-estimator-doc-link.fitted:hover {\n",
              "  /* fitted */\n",
              "  background-color: var(--sklearn-color-fitted-level-3);\n",
              "  color: var(--sklearn-color-background);\n",
              "  text-decoration: none;\n",
              "}\n",
              "\n",
              "/* Span, style for the box shown on hovering the info icon */\n",
              ".sk-estimator-doc-link span {\n",
              "  display: none;\n",
              "  z-index: 9999;\n",
              "  position: relative;\n",
              "  font-weight: normal;\n",
              "  right: .2ex;\n",
              "  padding: .5ex;\n",
              "  margin: .5ex;\n",
              "  width: min-content;\n",
              "  min-width: 20ex;\n",
              "  max-width: 50ex;\n",
              "  color: var(--sklearn-color-text);\n",
              "  box-shadow: 2pt 2pt 4pt #999;\n",
              "  /* unfitted */\n",
              "  background: var(--sklearn-color-unfitted-level-0);\n",
              "  border: .5pt solid var(--sklearn-color-unfitted-level-3);\n",
              "}\n",
              "\n",
              ".sk-estimator-doc-link.fitted span {\n",
              "  /* fitted */\n",
              "  background: var(--sklearn-color-fitted-level-0);\n",
              "  border: var(--sklearn-color-fitted-level-3);\n",
              "}\n",
              "\n",
              ".sk-estimator-doc-link:hover span {\n",
              "  display: block;\n",
              "}\n",
              "\n",
              "/* \"?\"-specific style due to the `<a>` HTML tag */\n",
              "\n",
              "#sk-container-id-1 a.estimator_doc_link {\n",
              "  float: right;\n",
              "  font-size: 1rem;\n",
              "  line-height: 1em;\n",
              "  font-family: monospace;\n",
              "  background-color: var(--sklearn-color-background);\n",
              "  border-radius: 1rem;\n",
              "  height: 1rem;\n",
              "  width: 1rem;\n",
              "  text-decoration: none;\n",
              "  /* unfitted */\n",
              "  color: var(--sklearn-color-unfitted-level-1);\n",
              "  border: var(--sklearn-color-unfitted-level-1) 1pt solid;\n",
              "}\n",
              "\n",
              "#sk-container-id-1 a.estimator_doc_link.fitted {\n",
              "  /* fitted */\n",
              "  border: var(--sklearn-color-fitted-level-1) 1pt solid;\n",
              "  color: var(--sklearn-color-fitted-level-1);\n",
              "}\n",
              "\n",
              "/* On hover */\n",
              "#sk-container-id-1 a.estimator_doc_link:hover {\n",
              "  /* unfitted */\n",
              "  background-color: var(--sklearn-color-unfitted-level-3);\n",
              "  color: var(--sklearn-color-background);\n",
              "  text-decoration: none;\n",
              "}\n",
              "\n",
              "#sk-container-id-1 a.estimator_doc_link.fitted:hover {\n",
              "  /* fitted */\n",
              "  background-color: var(--sklearn-color-fitted-level-3);\n",
              "}\n",
              "</style><div id=\"sk-container-id-1\" class=\"sk-top-container\"><div class=\"sk-text-repr-fallback\"><pre>LogisticRegression(max_iter=1000, random_state=42)</pre><b>In a Jupyter environment, please rerun this cell to show the HTML representation or trust the notebook. <br />On GitHub, the HTML representation is unable to render, please try loading this page with nbviewer.org.</b></div><div class=\"sk-container\" hidden><div class=\"sk-item\"><div class=\"sk-estimator fitted sk-toggleable\"><input class=\"sk-toggleable__control sk-hidden--visually\" id=\"sk-estimator-id-1\" type=\"checkbox\" checked><label for=\"sk-estimator-id-1\" class=\"sk-toggleable__label fitted sk-toggleable__label-arrow fitted\">&nbsp;&nbsp;LogisticRegression<a class=\"sk-estimator-doc-link fitted\" rel=\"noreferrer\" target=\"_blank\" href=\"https://scikit-learn.org/1.5/modules/generated/sklearn.linear_model.LogisticRegression.html\">?<span>Documentation for LogisticRegression</span></a><span class=\"sk-estimator-doc-link fitted\">i<span>Fitted</span></span></label><div class=\"sk-toggleable__content fitted\"><pre>LogisticRegression(max_iter=1000, random_state=42)</pre></div> </div></div></div></div>"
            ]
          },
          "metadata": {},
          "execution_count": 41
        }
      ]
    },
    {
      "cell_type": "code",
      "source": [
        "# Generate Predictions\n",
        "y_pred_prob = model.predict_proba(X_test)[:, 1]\n",
        "y_pred_class = (y_pred_prob >= 0.5).astype(int)  #(threshold = 0.5)\n"
      ],
      "metadata": {
        "id": "YBRjloTDps2D"
      },
      "execution_count": null,
      "outputs": []
    },
    {
      "cell_type": "code",
      "source": [
        "# Calculate Evaluation Metrics\n",
        "accuracy = accuracy_score(y_test, y_pred_class)\n",
        "precision = precision_score(y_test, y_pred_class)\n",
        "recall = recall_score(y_test, y_pred_class)\n",
        "f1 = f1_score(y_test, y_pred_class)\n",
        "roc_auc = roc_auc_score(y_test, y_pred_prob)\n",
        "\n",
        "print(f\"Accuracy: {accuracy:.4f}\")\n",
        "print(f\"Precision: {precision:.4f}\")\n",
        "print(f\"Recall: {recall:.4f}\")\n",
        "print(f\"F1-Score: {f1:.4f}\")\n",
        "print(f\"ROC-AUC: {roc_auc:.4f}\")\n"
      ],
      "metadata": {
        "colab": {
          "base_uri": "https://localhost:8080/"
        },
        "id": "yL_qWqMKpyOA",
        "outputId": "56341d4e-4d4d-4f38-9ebb-07d167bd1700"
      },
      "execution_count": null,
      "outputs": [
        {
          "output_type": "stream",
          "name": "stdout",
          "text": [
            "Accuracy: 0.8586\n",
            "Precision: 0.8231\n",
            "Recall: 0.8062\n",
            "F1-Score: 0.8146\n",
            "ROC-AUC: 0.9175\n"
          ]
        }
      ]
    },
    {
      "cell_type": "markdown",
      "source": [
        "**Threshold Optimization**"
      ],
      "metadata": {
        "id": "jxNsg2G-qRII"
      }
    },
    {
      "cell_type": "code",
      "source": [
        "from sklearn.metrics import precision_recall_curve\n",
        "\n",
        "precision_vals, recall_vals, thresholds = precision_recall_curve(y_test, y_pred_prob)\n",
        "\n",
        "# Plot Precision-Recall curve\n",
        "plt.figure(figsize=(8, 6))\n",
        "plt.plot(thresholds, precision_vals[:-1], label=\"Precision\")\n",
        "plt.plot(thresholds, recall_vals[:-1], label=\"Recall\")\n",
        "plt.xlabel(\"Threshold\")\n",
        "plt.ylabel(\"Score\")\n",
        "plt.title(\"Precision-Recall Tradeoff\")\n",
        "plt.legend()\n",
        "plt.show()\n"
      ],
      "metadata": {
        "colab": {
          "base_uri": "https://localhost:8080/",
          "height": 564
        },
        "id": "7DuFyZCcqSCX",
        "outputId": "2ad0ac98-e211-4da1-eaed-2258ab20152a"
      },
      "execution_count": null,
      "outputs": [
        {
          "output_type": "display_data",
          "data": {
            "text/plain": [
              "<Figure size 800x600 with 1 Axes>"
            ],
            "image/png": "[encoded data removed]"
          },
          "metadata": {}
        }
      ]
    },
    {
      "cell_type": "code",
      "source": [
        "from sklearn.metrics import f1_score\n",
        "\n",
        "f1_scores = 2 * (precision_vals * recall_vals) / (precision_vals + recall_vals)\n",
        "best_threshold = thresholds[f1_scores.argmax()]\n",
        "\n",
        "print(f\"Optimal Threshold: {best_threshold}\")\n"
      ],
      "metadata": {
        "colab": {
          "base_uri": "https://localhost:8080/"
        },
        "id": "4zxUeHQkqg7_",
        "outputId": "4b369514-f00d-4dca-b609-2b1d4cd570ed"
      },
      "execution_count": null,
      "outputs": [
        {
          "output_type": "stream",
          "name": "stdout",
          "text": [
            "Optimal Threshold: 0.40788371587535494\n"
          ]
        }
      ]
    },
    {
      "cell_type": "code",
      "source": [
        "# Apply optimal threshold to classify\n",
        "y_pred_class_optimal = (y_pred_prob >= 0.4079).astype(int)\n"
      ],
      "metadata": {
        "id": "lZgkGJQWqnzr"
      },
      "execution_count": null,
      "outputs": []
    },
    {
      "cell_type": "code",
      "source": [
        "from sklearn.metrics import accuracy_score, precision_score, recall_score, f1_score, roc_auc_score\n",
        "\n",
        "# Recalculate metrics\n",
        "accuracy = accuracy_score(y_test, y_pred_class_optimal)\n",
        "precision = precision_score(y_test, y_pred_class_optimal)\n",
        "recall = recall_score(y_test, y_pred_class_optimal)\n",
        "f1 = f1_score(y_test, y_pred_class_optimal)\n",
        "roc_auc = roc_auc_score(y_test, y_pred_prob)\n",
        "\n",
        "# Print the results\n",
        "print(f\"Accuracy: {accuracy:.4f}\")\n",
        "print(f\"Precision: {precision:.4f}\")\n",
        "print(f\"Recall: {recall:.4f}\")\n",
        "print(f\"F1-Score: {f1:.4f}\")\n",
        "print(f\"ROC-AUC: {roc_auc:.4f}\")\n"
      ],
      "metadata": {
        "colab": {
          "base_uri": "https://localhost:8080/"
        },
        "id": "C_Piu_iNqpkZ",
        "outputId": "4a61f635-5c93-4d9f-bfed-45a39c6b4d81"
      },
      "execution_count": null,
      "outputs": [
        {
          "output_type": "stream",
          "name": "stdout",
          "text": [
            "Accuracy: 0.8600\n",
            "Precision: 0.8080\n",
            "Recall: 0.8352\n",
            "F1-Score: 0.8214\n",
            "ROC-AUC: 0.9175\n"
          ]
        }
      ]
    },
    {
      "cell_type": "code",
      "source": [
        "# Create a function to calculate metrics at different thresholds\n",
        "def calculate_metrics(y_true, y_prob, threshold):\n",
        "    y_pred = (y_prob >= threshold).astype(int)\n",
        "\n",
        "    # Calculate confusion matrix\n",
        "    tn, fp, fn, tp = confusion_matrix(y_true, y_pred).ravel()\n",
        "\n",
        "    # Calculate metrics\n",
        "    accuracy = (tp + tn) / (tp + tn + fp + fn)\n",
        "    sensitivity = tp / (tp + fn)  # Also called recall\n",
        "    specificity = tn / (tn + fp)\n",
        "\n",
        "    return accuracy, sensitivity, specificity\n",
        "\n",
        "# Create a range of thresholds\n",
        "thresholds = np.arange(0.1, 1.0, 0.1)\n",
        "\n",
        "# Calculate metrics for each threshold\n",
        "results = []\n",
        "for threshold in thresholds:\n",
        "    acc, sens, spec = calculate_metrics(y_test, y_pred_prob, threshold)\n",
        "    results.append({\n",
        "        'Threshold': threshold,\n",
        "        'Accuracy': acc,\n",
        "        'Sensitivity': sens,\n",
        "        'Specificity': spec\n",
        "    })\n",
        "\n",
        "# Convert to DataFrame for better visualization\n",
        "metrics_df = pd.DataFrame(results)\n",
        "metrics_df = metrics_df.round(3)  # Round to 3 decimal places\n",
        "\n",
        "# Display the results\n",
        "print(\"\\nMetrics at Different Probability Thresholds:\")\n",
        "print(metrics_df)\n",
        "\n",
        "# Optional: Plot the metrics\n",
        "plt.figure(figsize=(10, 6))\n",
        "plt.plot(metrics_df['Threshold'], metrics_df['Accuracy'], label='Accuracy')\n",
        "plt.plot(metrics_df['Threshold'], metrics_df['Sensitivity'], label='Sensitivity')\n",
        "plt.plot(metrics_df['Threshold'], metrics_df['Specificity'], label='Specificity')\n",
        "plt.axvline(0.4079, color='red', linestyle='--', label=f'Optimal Threshold: {0.4079:.2f}')\n",
        "plt.title('Performance Metrics vs Threshold')\n",
        "plt.xlabel('Threshold')\n",
        "plt.ylabel('Score')\n",
        "plt.legend()\n",
        "plt.grid(True, alpha=0.3)\n",
        "plt.show()"
      ],
      "metadata": {
        "colab": {
          "base_uri": "https://localhost:8080/",
          "height": 772
        },
        "id": "3lIngGyh2UCL",
        "outputId": "451940c1-b2db-4d19-b963-17c77c4f10bb"
      },
      "execution_count": null,
      "outputs": [
        {
          "output_type": "stream",
          "name": "stdout",
          "text": [
            "\n",
            "Metrics at Different Probability Thresholds:\n",
            "   Threshold  Accuracy  Sensitivity  Specificity\n",
            "0        0.1     0.649        0.976        0.444\n",
            "1        0.2     0.768        0.927        0.668\n",
            "2        0.3     0.845        0.866        0.831\n",
            "3        0.4     0.858        0.837        0.871\n",
            "4        0.5     0.859        0.806        0.891\n",
            "5        0.6     0.855        0.754        0.918\n",
            "6        0.7     0.823        0.617        0.952\n",
            "7        0.8     0.801        0.528        0.972\n",
            "8        0.9     0.763        0.406        0.987\n"
          ]
        },
        {
          "output_type": "display_data",
          "data": {
            "text/plain": [
              "<Figure size 1000x600 with 1 Axes>"
            ],
            "image/png": "[encoded data removed]"
          },
          "metadata": {}
        }
      ]
    },
    {
      "cell_type": "code",
      "source": [
        "##0.41 is still being kept as threshold because  it provides the best balance between correctly identifying both positive and negative cases"
      ],
      "metadata": {
        "id": "w0W5rVQD4Q0Q"
      },
      "execution_count": null,
      "outputs": []
    },
    {
      "cell_type": "code",
      "source": [
        "# from sklearn.metrics import precision_recall_curve\n",
        "\n",
        "# # Calculate precision, recall, and thresholds\n",
        "# precision_vals, recall_vals, thresholds = precision_recall_curve(y_test, y_pred_prob)\n",
        "\n",
        "# # Create the plot\n",
        "# plt.figure(figsize=(8, 6))\n",
        "# plt.plot(thresholds, precision_vals[:-1], label='Precision')\n",
        "# plt.plot(thresholds, recall_vals[:-1], label='Recall')\n",
        "# plt.axvline(0.4079, color='red', linestyle='--', label=f'Optimal Threshold: {0.4079:.2f}')\n",
        "# plt.title('Precision-Recall Tradeoff')\n",
        "# plt.xlabel('Threshold')\n",
        "# plt.ylabel('Score')\n",
        "# plt.legend()\n",
        "# plt.grid(True, alpha=0.3)\n",
        "# plt.show()"
      ],
      "metadata": {
        "id": "2husZSFp31WN"
      },
      "execution_count": null,
      "outputs": []
    },
    {
      "cell_type": "code",
      "source": [
        "optimal_threshold = 0.41\n",
        "y_pred_optimal = (y_pred_prob >= optimal_threshold).astype(int)\n",
        "\n",
        "from sklearn.metrics import confusion_matrix, accuracy_score, precision_score, recall_score, f1_score\n",
        "\n",
        "print(\"Metrics at Optimal Threshold:\")\n",
        "print(f\"Accuracy: {accuracy_score(y_test, y_pred_optimal):.4f}\")\n",
        "print(f\"Precision: {precision_score(y_test, y_pred_optimal):.4f}\")\n",
        "print(f\"Recall: {recall_score(y_test, y_pred_optimal):.4f}\")\n",
        "print(f\"F1-Score: {f1_score(y_test, y_pred_optimal):.4f}\")\n",
        "\n",
        "# Confusion Matrix\n",
        "cm = confusion_matrix(y_test, y_pred_optimal)\n",
        "print(\"Confusion Matrix:\")\n",
        "print(cm)"
      ],
      "metadata": {
        "colab": {
          "base_uri": "https://localhost:8080/"
        },
        "id": "F6KcNJ65rNwa",
        "outputId": "81256431-665c-4e2d-fd35-a788e2b30c4c"
      },
      "execution_count": null,
      "outputs": [
        {
          "output_type": "stream",
          "name": "stdout",
          "text": [
            "Metrics at Optimal Threshold:\n",
            "Accuracy: 0.8600\n",
            "Precision: 0.8080\n",
            "Recall: 0.8352\n",
            "F1-Score: 0.8214\n",
            "Confusion Matrix:\n",
            "[[1492  212]\n",
            " [ 176  892]]\n"
          ]
        }
      ]
    },
    {
      "cell_type": "code",
      "source": [
        "import seaborn as sns\n",
        "import matplotlib.pyplot as plt\n",
        "\n",
        "sns.heatmap(cm, annot=True, fmt='d', cmap='Blues')\n",
        "plt.title('Confusion Matrix at Optimal Threshold')\n",
        "plt.xlabel('Predicted')\n",
        "plt.ylabel('Actual')\n",
        "plt.show()\n"
      ],
      "metadata": {
        "colab": {
          "base_uri": "https://localhost:8080/",
          "height": 472
        },
        "id": "EcP896otrPMi",
        "outputId": "d536fe91-e68b-423d-cd10-d53282e543e1"
      },
      "execution_count": null,
      "outputs": [
        {
          "output_type": "display_data",
          "data": {
            "text/plain": [
              "<Figure size 640x480 with 2 Axes>"
            ],
            "image/png": "[encoded data removed]"
          },
          "metadata": {}
        }
      ]
    },
    {
      "cell_type": "code",
      "source": [],
      "metadata": {
        "id": "a4w5lb1A1vNd"
      },
      "execution_count": null,
      "outputs": []
    },
    {
      "cell_type": "code",
      "source": [
        "from sklearn.metrics import roc_curve, auc\n",
        "\n",
        "fpr, tpr, thresholds = roc_curve(y_test, y_pred_prob)\n",
        "roc_auc = auc(fpr, tpr)\n",
        "\n",
        "plt.figure(figsize=(8, 6))\n",
        "plt.plot(fpr, tpr, label=f'ROC Curve (AUC = {roc_auc:.2f})')\n",
        "plt.scatter(fpr[np.argmax(tpr - fpr)], tpr[np.argmax(tpr - fpr)], color='red', label='Optimal Threshold')\n",
        "plt.title('ROC')\n",
        "plt.xlabel('False Positive Rate')\n",
        "plt.ylabel('True Positive Rate')\n",
        "plt.legend(loc='lower right')\n",
        "plt.show()\n"
      ],
      "metadata": {
        "colab": {
          "base_uri": "https://localhost:8080/",
          "height": 564
        },
        "id": "A0kw5vQ3rgQR",
        "outputId": "6955b0be-274b-415f-e504-8344475b1658"
      },
      "execution_count": null,
      "outputs": [
        {
          "output_type": "display_data",
          "data": {
            "text/plain": [
              "<Figure size 800x600 with 1 Axes>"
            ],
            "image/png": "[encoded data removed]"
          },
          "metadata": {}
        }
      ]
    },
    {
      "cell_type": "markdown",
      "source": [
        " (AUC) of 0.92 suggests very good predictive performance"
      ],
      "metadata": {
        "id": "KtWf734hr54O"
      }
    },
    {
      "cell_type": "code",
      "source": [
        "print(\"Model exog shape:\", res.model.exog.shape)\n",
        "print(\"X_test shape:\", X_test.shape)"
      ],
      "metadata": {
        "colab": {
          "base_uri": "https://localhost:8080/"
        },
        "id": "ygxLoc7VtZKP",
        "outputId": "85ad47cd-3701-41f7-f4ec-0c8deaea7596"
      },
      "execution_count": null,
      "outputs": [
        {
          "output_type": "stream",
          "name": "stdout",
          "text": [
            "Model exog shape: (6468, 12)\n",
            "X_test shape: (2772, 12)\n"
          ]
        }
      ]
    },
    {
      "cell_type": "code",
      "source": [
        "print(f\"Precision: {precision_score(y_test, y_pred_optimal):.4f}\")\n",
        "print(f\"Recall: {recall_score(y_test, y_pred_optimal):.4f}\")\n",
        "print(f\"F1-Score: {f1_score(y_test, y_pred_optimal):.4f}\")"
      ],
      "metadata": {
        "colab": {
          "base_uri": "https://localhost:8080/"
        },
        "id": "1quh33zKwDEu",
        "outputId": "261fe0f3-cdbd-471c-c3c8-a8c445a800e2"
      },
      "execution_count": null,
      "outputs": [
        {
          "output_type": "stream",
          "name": "stdout",
          "text": [
            "Precision: 0.8080\n",
            "Recall: 0.8352\n",
            "F1-Score: 0.8214\n"
          ]
        }
      ]
    },
    {
      "cell_type": "code",
      "source": [
        "y_pred_optimal"
      ],
      "metadata": {
        "colab": {
          "base_uri": "https://localhost:8080/"
        },
        "id": "QUvzMspOwTtr",
        "outputId": "c771fb91-5a4e-49ba-c356-e5ce234d04be"
      },
      "execution_count": null,
      "outputs": [
        {
          "output_type": "execute_result",
          "data": {
            "text/plain": [
              "array([0, 1, 1, ..., 0, 1, 1])"
            ]
          },
          "metadata": {},
          "execution_count": 56
        }
      ]
    },
    {
      "cell_type": "markdown",
      "source": [
        "**Predction Check**"
      ],
      "metadata": {
        "id": "tzchhHK90VA_"
      }
    },
    {
      "cell_type": "code",
      "source": [
        "# Create a DataFrame with actual and predicted values\n",
        "comparison_df = pd.DataFrame({\n",
        "    'Actual': y_test,\n",
        "    'Predicted': y_pred_optimal,\n",
        "    'Probability': y_pred_prob\n",
        "})\n",
        "\n",
        "\n",
        "print(\"\\nComparison of Actual vs Predicted values (first 10 rows):\")\n",
        "print(comparison_df.head(10))\n"
      ],
      "metadata": {
        "colab": {
          "base_uri": "https://localhost:8080/"
        },
        "id": "XnWTVliav4f5",
        "outputId": "5da9b308-9c42-4632-efb4-8551c33b05d0"
      },
      "execution_count": null,
      "outputs": [
        {
          "output_type": "stream",
          "name": "stdout",
          "text": [
            "\n",
            "Comparison of Actual vs Predicted values (first 10 rows):\n",
            "      Actual  Predicted  Probability\n",
            "8305       0          0     0.210517\n",
            "1591       1          1     0.663630\n",
            "8604       0          1     0.629338\n",
            "1333       0          0     0.258237\n",
            "4260       0          0     0.001970\n",
            "2357       1          1     0.964529\n",
            "1900       1          1     0.726177\n",
            "9077       0          0     0.016143\n",
            "6302       1          1     0.705110\n",
            "8158       1          0     0.125985\n"
          ]
        }
      ]
    },
    {
      "cell_type": "code",
      "source": [
        "# Display top positive and negative coefficients\n",
        "top_positive_features = coefficients[coefficients['Coefficient'] > 0].head(7)\n",
        "top_negative_features = coefficients[coefficients['Coefficient'] < 0].head(7)\n",
        "\n",
        "print(\"\\nTop Positive Features Driving Conversion:\")\n",
        "print(top_positive_features)\n",
        "\n",
        "print(\"\\nTop Negative Features Reducing Conversion:\")\n",
        "print(top_negative_features)\n"
      ],
      "metadata": {
        "colab": {
          "base_uri": "https://localhost:8080/"
        },
        "id": "_xf_NTzoyOai",
        "outputId": "070b2fc7-3f18-4503-9f82-b56de24a7d96"
      },
      "execution_count": null,
      "outputs": [
        {
          "output_type": "stream",
          "name": "stdout",
          "text": [
            "\n",
            "Top Positive Features Driving Conversion:\n",
            "                                              Feature  Coefficient\n",
            "2                           Lead Origin_Lead Add Form     3.645472\n",
            "7            Tags_Will revert after reading the email     3.145750\n",
            "10                                         Tags_Other     2.879779\n",
            "9                      Last Notable Activity_SMS Sent     1.808257\n",
            "5   What is your current occupation_Working Profes...     1.523548\n",
            "1                         Total Time Spent on Website     1.025921\n",
            "3                        Lead Source_Welingak Website     0.987057\n",
            "\n",
            "Top Negative Features Reducing Conversion:\n",
            "                                       Feature  Coefficient\n",
            "8               Last Notable Activity_Modified    -0.615122\n",
            "11                 Last Notable Activity_Other    -0.765344\n",
            "4   What is your current occupation_Unemployed    -1.135490\n",
            "6                                 Tags_Ringing    -1.148978\n",
            "0                                 Do Not Email    -1.816047\n"
          ]
        }
      ]
    },
    {
      "cell_type": "code",
      "source": [
        "plt.figure(figsize=(10, 6))\n",
        "sns.barplot(x='Coefficient', y='Feature', data=coefficients.head(10))\n",
        "plt.title('Top 10 Features Influencing Lead Conversion')\n",
        "plt.xlabel('Coefficient Value')\n",
        "plt.ylabel('Feature')\n",
        "plt.grid(True, alpha=0.3)\n",
        "plt.show()\n"
      ],
      "metadata": {
        "colab": {
          "base_uri": "https://localhost:8080/",
          "height": 461
        },
        "id": "DMfKoqYByehM",
        "outputId": "8ec5e7ed-a0d1-4e41-c04a-f420f3dddfbc"
      },
      "execution_count": null,
      "outputs": [
        {
          "output_type": "display_data",
          "data": {
            "text/plain": [
              "<Figure size 1000x600 with 1 Axes>"
            ],
            "image/png": "[encoded data removed]"
          },
          "metadata": {}
        }
      ]
    }
  ]
}